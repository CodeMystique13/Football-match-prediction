{
  "metadata": {
    "kernelspec": {
      "name": "python",
      "display_name": "Python (Pyodide)",
      "language": "python"
    },
    "language_info": {
      "codemirror_mode": {
        "name": "python",
        "version": 3
      },
      "file_extension": ".py",
      "mimetype": "text/x-python",
      "name": "python",
      "nbconvert_exporter": "python",
      "pygments_lexer": "ipython3",
      "version": "3.8"
    }
  },
  "nbformat_minor": 4,
  "nbformat": 4,
  "cells": [
    {
      "cell_type": "code",
      "source": "import pandas as pd",
      "metadata": {
        "trusted": true
      },
      "outputs": [],
      "execution_count": 1
    },
    {
      "cell_type": "code",
      "source": "matches = pd.read_csv(\"matches.csv\", index_col=0)",
      "metadata": {
        "trusted": true
      },
      "outputs": [],
      "execution_count": 2
    },
    {
      "cell_type": "code",
      "source": "matches.head()",
      "metadata": {
        "trusted": true
      },
      "outputs": [
        {
          "execution_count": 3,
          "output_type": "execute_result",
          "data": {
            "text/plain": "         date   time            comp        round  day venue result   gf   ga  \\\n1  2021-08-15  16:30  Premier League  Matchweek 1  Sun  Away      L  0.0  1.0   \n2  2021-08-21  15:00  Premier League  Matchweek 2  Sat  Home      W  5.0  0.0   \n3  2021-08-28  12:30  Premier League  Matchweek 3  Sat  Home      W  5.0  0.0   \n4  2021-09-11  15:00  Premier League  Matchweek 4  Sat  Away      W  1.0  0.0   \n6  2021-09-18  15:00  Premier League  Matchweek 5  Sat  Home      D  0.0  0.0   \n\n         opponent  ...  match report  notes    sh   sot  dist   fk   pk pkatt  \\\n1       Tottenham  ...  Match Report    NaN  18.0   4.0  16.9  1.0  0.0   0.0   \n2    Norwich City  ...  Match Report    NaN  16.0   4.0  17.3  1.0  0.0   0.0   \n3         Arsenal  ...  Match Report    NaN  25.0  10.0  14.3  0.0  0.0   0.0   \n4  Leicester City  ...  Match Report    NaN  25.0   8.0  14.0  0.0  0.0   0.0   \n6     Southampton  ...  Match Report    NaN  16.0   1.0  15.7  1.0  0.0   0.0   \n\n   season             team  \n1    2022  Manchester City  \n2    2022  Manchester City  \n3    2022  Manchester City  \n4    2022  Manchester City  \n6    2022  Manchester City  \n\n[5 rows x 27 columns]",
            "text/html": "<div>\n<style scoped>\n    .dataframe tbody tr th:only-of-type {\n        vertical-align: middle;\n    }\n\n    .dataframe tbody tr th {\n        vertical-align: top;\n    }\n\n    .dataframe thead th {\n        text-align: right;\n    }\n</style>\n<table border=\"1\" class=\"dataframe\">\n  <thead>\n    <tr style=\"text-align: right;\">\n      <th></th>\n      <th>date</th>\n      <th>time</th>\n      <th>comp</th>\n      <th>round</th>\n      <th>day</th>\n      <th>venue</th>\n      <th>result</th>\n      <th>gf</th>\n      <th>ga</th>\n      <th>opponent</th>\n      <th>...</th>\n      <th>match report</th>\n      <th>notes</th>\n      <th>sh</th>\n      <th>sot</th>\n      <th>dist</th>\n      <th>fk</th>\n      <th>pk</th>\n      <th>pkatt</th>\n      <th>season</th>\n      <th>team</th>\n    </tr>\n  </thead>\n  <tbody>\n    <tr>\n      <th>1</th>\n      <td>2021-08-15</td>\n      <td>16:30</td>\n      <td>Premier League</td>\n      <td>Matchweek 1</td>\n      <td>Sun</td>\n      <td>Away</td>\n      <td>L</td>\n      <td>0.0</td>\n      <td>1.0</td>\n      <td>Tottenham</td>\n      <td>...</td>\n      <td>Match Report</td>\n      <td>NaN</td>\n      <td>18.0</td>\n      <td>4.0</td>\n      <td>16.9</td>\n      <td>1.0</td>\n      <td>0.0</td>\n      <td>0.0</td>\n      <td>2022</td>\n      <td>Manchester City</td>\n    </tr>\n    <tr>\n      <th>2</th>\n      <td>2021-08-21</td>\n      <td>15:00</td>\n      <td>Premier League</td>\n      <td>Matchweek 2</td>\n      <td>Sat</td>\n      <td>Home</td>\n      <td>W</td>\n      <td>5.0</td>\n      <td>0.0</td>\n      <td>Norwich City</td>\n      <td>...</td>\n      <td>Match Report</td>\n      <td>NaN</td>\n      <td>16.0</td>\n      <td>4.0</td>\n      <td>17.3</td>\n      <td>1.0</td>\n      <td>0.0</td>\n      <td>0.0</td>\n      <td>2022</td>\n      <td>Manchester City</td>\n    </tr>\n    <tr>\n      <th>3</th>\n      <td>2021-08-28</td>\n      <td>12:30</td>\n      <td>Premier League</td>\n      <td>Matchweek 3</td>\n      <td>Sat</td>\n      <td>Home</td>\n      <td>W</td>\n      <td>5.0</td>\n      <td>0.0</td>\n      <td>Arsenal</td>\n      <td>...</td>\n      <td>Match Report</td>\n      <td>NaN</td>\n      <td>25.0</td>\n      <td>10.0</td>\n      <td>14.3</td>\n      <td>0.0</td>\n      <td>0.0</td>\n      <td>0.0</td>\n      <td>2022</td>\n      <td>Manchester City</td>\n    </tr>\n    <tr>\n      <th>4</th>\n      <td>2021-09-11</td>\n      <td>15:00</td>\n      <td>Premier League</td>\n      <td>Matchweek 4</td>\n      <td>Sat</td>\n      <td>Away</td>\n      <td>W</td>\n      <td>1.0</td>\n      <td>0.0</td>\n      <td>Leicester City</td>\n      <td>...</td>\n      <td>Match Report</td>\n      <td>NaN</td>\n      <td>25.0</td>\n      <td>8.0</td>\n      <td>14.0</td>\n      <td>0.0</td>\n      <td>0.0</td>\n      <td>0.0</td>\n      <td>2022</td>\n      <td>Manchester City</td>\n    </tr>\n    <tr>\n      <th>6</th>\n      <td>2021-09-18</td>\n      <td>15:00</td>\n      <td>Premier League</td>\n      <td>Matchweek 5</td>\n      <td>Sat</td>\n      <td>Home</td>\n      <td>D</td>\n      <td>0.0</td>\n      <td>0.0</td>\n      <td>Southampton</td>\n      <td>...</td>\n      <td>Match Report</td>\n      <td>NaN</td>\n      <td>16.0</td>\n      <td>1.0</td>\n      <td>15.7</td>\n      <td>1.0</td>\n      <td>0.0</td>\n      <td>0.0</td>\n      <td>2022</td>\n      <td>Manchester City</td>\n    </tr>\n  </tbody>\n</table>\n<p>5 rows × 27 columns</p>\n</div>"
          },
          "metadata": {}
        }
      ],
      "execution_count": 3
    },
    {
      "cell_type": "code",
      "source": "matches.shape",
      "metadata": {
        "trusted": true
      },
      "outputs": [
        {
          "execution_count": 4,
          "output_type": "execute_result",
          "data": {
            "text/plain": "(1389, 27)"
          },
          "metadata": {}
        }
      ],
      "execution_count": 4
    },
    {
      "cell_type": "code",
      "source": "38 * 20 * 2",
      "metadata": {
        "trusted": true
      },
      "outputs": [
        {
          "execution_count": 5,
          "output_type": "execute_result",
          "data": {
            "text/plain": "1520"
          },
          "metadata": {}
        }
      ],
      "execution_count": 5
    },
    {
      "cell_type": "code",
      "source": "matches[\"team\"].value_counts()",
      "metadata": {
        "trusted": true
      },
      "outputs": [
        {
          "execution_count": 6,
          "output_type": "execute_result",
          "data": {
            "text/plain": "Southampton                 72\nBrighton and Hove Albion    72\nManchester United           72\nWest Ham United             72\nNewcastle United            72\nBurnley                     71\nLeeds United                71\nCrystal Palace              71\nManchester City             71\nWolverhampton Wanderers     71\nTottenham Hotspur           71\nArsenal                     71\nLeicester City              70\nChelsea                     70\nAston Villa                 70\nEverton                     70\nLiverpool                   38\nFulham                      38\nWest Bromwich Albion        38\nSheffield United            38\nBrentford                   34\nWatford                     33\nNorwich City                33\nName: team, dtype: int64"
          },
          "metadata": {}
        }
      ],
      "execution_count": 6
    },
    {
      "cell_type": "code",
      "source": "matches[matches[\"team\"] == \"Liverpool\"].sort_values(\"date\")",
      "metadata": {
        "trusted": true
      },
      "outputs": [
        {
          "execution_count": 7,
          "output_type": "execute_result",
          "data": {
            "text/plain": "          date   time            comp         round  day venue result   gf  \\\n1   2020-09-12  17:30  Premier League   Matchweek 1  Sat  Home      W  4.0   \n2   2020-09-20  16:30  Premier League   Matchweek 2  Sun  Away      W  2.0   \n4   2020-09-28  20:00  Premier League   Matchweek 3  Mon  Home      W  3.0   \n6   2020-10-04  19:15  Premier League   Matchweek 4  Sun  Away      L  2.0   \n7   2020-10-17  12:30  Premier League   Matchweek 5  Sat  Away      D  2.0   \n9   2020-10-24  20:00  Premier League   Matchweek 6  Sat  Home      W  2.0   \n11  2020-10-31  17:30  Premier League   Matchweek 7  Sat  Home      W  2.0   \n13  2020-11-08  16:30  Premier League   Matchweek 8  Sun  Away      D  1.0   \n14  2020-11-22  19:15  Premier League   Matchweek 9  Sun  Home      W  3.0   \n16  2020-11-28  12:30  Premier League  Matchweek 10  Sat  Away      D  1.0   \n18  2020-12-06  19:15  Premier League  Matchweek 11  Sun  Home      W  4.0   \n20  2020-12-13  16:30  Premier League  Matchweek 12  Sun  Away      D  1.0   \n21  2020-12-16  20:00  Premier League  Matchweek 13  Wed  Home      W  2.0   \n22  2020-12-19  12:30  Premier League  Matchweek 14  Sat  Away      W  7.0   \n23  2020-12-27  16:30  Premier League  Matchweek 15  Sun  Home      D  1.0   \n24  2020-12-30  20:00  Premier League  Matchweek 16  Wed  Away      D  0.0   \n25  2021-01-04  20:00  Premier League  Matchweek 17  Mon  Away      L  0.0   \n27  2021-01-17  16:30  Premier League  Matchweek 19  Sun  Home      D  0.0   \n28  2021-01-21  20:00  Premier League  Matchweek 18  Thu  Home      L  0.0   \n30  2021-01-28  20:00  Premier League  Matchweek 20  Thu  Away      W  3.0   \n31  2021-01-31  16:30  Premier League  Matchweek 21  Sun  Away      W  3.0   \n32  2021-02-03  20:15  Premier League  Matchweek 22  Wed  Home      L  0.0   \n33  2021-02-07  16:30  Premier League  Matchweek 23  Sun  Home      L  1.0   \n34  2021-02-13  12:30  Premier League  Matchweek 24  Sat  Away      L  1.0   \n36  2021-02-20  17:30  Premier League  Matchweek 25  Sat  Home      L  0.0   \n37  2021-02-28  19:15  Premier League  Matchweek 26  Sun  Away      W  2.0   \n38  2021-03-04  20:15  Premier League  Matchweek 29  Thu  Home      L  0.0   \n39  2021-03-07  14:00  Premier League  Matchweek 27  Sun  Home      L  0.0   \n41  2021-03-15  20:00  Premier League  Matchweek 28  Mon  Away      W  1.0   \n42  2021-04-03  20:00  Premier League  Matchweek 30  Sat  Away      W  3.0   \n44  2021-04-10  15:00  Premier League  Matchweek 31  Sat  Home      W  2.0   \n46  2021-04-19  20:00  Premier League  Matchweek 32  Mon  Away      D  1.0   \n47  2021-04-24  12:30  Premier League  Matchweek 33  Sat  Home      D  1.0   \n48  2021-05-08  20:15  Premier League  Matchweek 35  Sat  Home      W  2.0   \n49  2021-05-13  20:15  Premier League  Matchweek 34  Thu  Away      W  4.0   \n50  2021-05-16  16:30  Premier League  Matchweek 36  Sun  Away      W  2.0   \n51  2021-05-19  20:15  Premier League  Matchweek 37  Wed  Away      W  3.0   \n52  2021-05-23  16:00  Premier League  Matchweek 38  Sun  Home      W  2.0   \n\n     ga         opponent  ...  match report  notes    sh   sot  dist   fk  \\\n1   3.0     Leeds United  ...  Match Report    NaN  20.0   4.0  17.0  0.0   \n2   0.0          Chelsea  ...  Match Report    NaN  17.0   5.0  17.7  1.0   \n4   1.0          Arsenal  ...  Match Report    NaN  21.0   9.0  16.8  0.0   \n6   7.0      Aston Villa  ...  Match Report    NaN  14.0   8.0  15.8  1.0   \n7   2.0          Everton  ...  Match Report    NaN  22.0   8.0  15.0  1.0   \n9   1.0    Sheffield Utd  ...  Match Report    NaN  17.0   5.0  18.2  1.0   \n11  1.0         West Ham  ...  Match Report    NaN   8.0   2.0  18.6  1.0   \n13  1.0  Manchester City  ...  Match Report    NaN   9.0   2.0  21.5  0.0   \n14  0.0   Leicester City  ...  Match Report    NaN  24.0  12.0  11.9  0.0   \n16  1.0         Brighton  ...  Match Report    NaN   6.0   2.0  20.9  0.0   \n18  0.0           Wolves  ...  Match Report    NaN  11.0   6.0  16.6  1.0   \n20  1.0           Fulham  ...  Match Report    NaN  11.0   5.0  20.0  1.0   \n21  1.0        Tottenham  ...  Match Report    NaN  17.0  11.0  15.5  0.0   \n22  0.0   Crystal Palace  ...  Match Report    NaN  14.0   7.0  13.2  1.0   \n23  1.0        West Brom  ...  Match Report    NaN  17.0   2.0  17.8  2.0   \n24  0.0    Newcastle Utd  ...  Match Report    NaN  11.0   4.0  16.7  0.0   \n25  1.0      Southampton  ...  Match Report    NaN  17.0   1.0  14.3  0.0   \n27  0.0   Manchester Utd  ...  Match Report    NaN  17.0   3.0  17.1  0.0   \n28  1.0          Burnley  ...  Match Report    NaN  27.0   6.0  17.3  0.0   \n30  1.0        Tottenham  ...  Match Report    NaN  14.0   7.0  14.7  0.0   \n31  1.0         West Ham  ...  Match Report    NaN  14.0   5.0  15.3  0.0   \n32  1.0         Brighton  ...  Match Report    NaN  11.0   0.0  19.9  0.0   \n33  4.0  Manchester City  ...  Match Report    NaN   7.0   2.0  17.9  1.0   \n34  3.0   Leicester City  ...  Match Report    NaN  15.0   4.0  15.4  2.0   \n36  2.0          Everton  ...  Match Report    NaN  16.0   6.0  15.9  1.0   \n37  0.0    Sheffield Utd  ...  Match Report    NaN  15.0   8.0  14.2  0.0   \n38  1.0          Chelsea  ...  Match Report    NaN   7.0   1.0  18.4  0.0   \n39  1.0           Fulham  ...  Match Report    NaN  16.0   3.0  17.0  1.0   \n41  0.0           Wolves  ...  Match Report    NaN  12.0   4.0  15.9  0.0   \n42  0.0          Arsenal  ...  Match Report    NaN  16.0   7.0  17.0  0.0   \n44  1.0      Aston Villa  ...  Match Report    NaN  23.0   8.0  16.7  1.0   \n46  1.0     Leeds United  ...  Match Report    NaN  17.0   7.0  15.7  0.0   \n47  1.0    Newcastle Utd  ...  Match Report    NaN  21.0   9.0  17.0  1.0   \n48  0.0      Southampton  ...  Match Report    NaN  14.0   6.0  12.4  0.0   \n49  2.0   Manchester Utd  ...  Match Report    NaN  17.0   8.0  14.9  0.0   \n50  1.0        West Brom  ...  Match Report    NaN  26.0   6.0  16.9  1.0   \n51  0.0          Burnley  ...  Match Report    NaN  20.0   3.0  15.5  1.0   \n52  0.0   Crystal Palace  ...  Match Report    NaN  19.0   5.0  14.2  1.0   \n\n     pk pkatt  season       team  \n1   2.0   2.0    2021  Liverpool  \n2   0.0   0.0    2021  Liverpool  \n4   0.0   0.0    2021  Liverpool  \n6   0.0   0.0    2021  Liverpool  \n7   0.0   0.0    2021  Liverpool  \n9   0.0   0.0    2021  Liverpool  \n11  1.0   1.0    2021  Liverpool  \n13  1.0   1.0    2021  Liverpool  \n14  0.0   0.0    2021  Liverpool  \n16  0.0   0.0    2021  Liverpool  \n18  0.0   0.0    2021  Liverpool  \n20  1.0   1.0    2021  Liverpool  \n21  0.0   0.0    2021  Liverpool  \n22  0.0   0.0    2021  Liverpool  \n23  0.0   0.0    2021  Liverpool  \n24  0.0   0.0    2021  Liverpool  \n25  0.0   0.0    2021  Liverpool  \n27  0.0   0.0    2021  Liverpool  \n28  0.0   0.0    2021  Liverpool  \n30  0.0   0.0    2021  Liverpool  \n31  0.0   0.0    2021  Liverpool  \n32  0.0   0.0    2021  Liverpool  \n33  1.0   1.0    2021  Liverpool  \n34  0.0   0.0    2021  Liverpool  \n36  0.0   0.0    2021  Liverpool  \n37  0.0   0.0    2021  Liverpool  \n38  0.0   0.0    2021  Liverpool  \n39  0.0   0.0    2021  Liverpool  \n41  0.0   0.0    2021  Liverpool  \n42  0.0   0.0    2021  Liverpool  \n44  0.0   0.0    2021  Liverpool  \n46  0.0   0.0    2021  Liverpool  \n47  0.0   0.0    2021  Liverpool  \n48  0.0   0.0    2021  Liverpool  \n49  0.0   0.0    2021  Liverpool  \n50  0.0   0.0    2021  Liverpool  \n51  0.0   0.0    2021  Liverpool  \n52  0.0   0.0    2021  Liverpool  \n\n[38 rows x 27 columns]",
            "text/html": "<div>\n<style scoped>\n    .dataframe tbody tr th:only-of-type {\n        vertical-align: middle;\n    }\n\n    .dataframe tbody tr th {\n        vertical-align: top;\n    }\n\n    .dataframe thead th {\n        text-align: right;\n    }\n</style>\n<table border=\"1\" class=\"dataframe\">\n  <thead>\n    <tr style=\"text-align: right;\">\n      <th></th>\n      <th>date</th>\n      <th>time</th>\n      <th>comp</th>\n      <th>round</th>\n      <th>day</th>\n      <th>venue</th>\n      <th>result</th>\n      <th>gf</th>\n      <th>ga</th>\n      <th>opponent</th>\n      <th>...</th>\n      <th>match report</th>\n      <th>notes</th>\n      <th>sh</th>\n      <th>sot</th>\n      <th>dist</th>\n      <th>fk</th>\n      <th>pk</th>\n      <th>pkatt</th>\n      <th>season</th>\n      <th>team</th>\n    </tr>\n  </thead>\n  <tbody>\n    <tr>\n      <th>1</th>\n      <td>2020-09-12</td>\n      <td>17:30</td>\n      <td>Premier League</td>\n      <td>Matchweek 1</td>\n      <td>Sat</td>\n      <td>Home</td>\n      <td>W</td>\n      <td>4.0</td>\n      <td>3.0</td>\n      <td>Leeds United</td>\n      <td>...</td>\n      <td>Match Report</td>\n      <td>NaN</td>\n      <td>20.0</td>\n      <td>4.0</td>\n      <td>17.0</td>\n      <td>0.0</td>\n      <td>2.0</td>\n      <td>2.0</td>\n      <td>2021</td>\n      <td>Liverpool</td>\n    </tr>\n    <tr>\n      <th>2</th>\n      <td>2020-09-20</td>\n      <td>16:30</td>\n      <td>Premier League</td>\n      <td>Matchweek 2</td>\n      <td>Sun</td>\n      <td>Away</td>\n      <td>W</td>\n      <td>2.0</td>\n      <td>0.0</td>\n      <td>Chelsea</td>\n      <td>...</td>\n      <td>Match Report</td>\n      <td>NaN</td>\n      <td>17.0</td>\n      <td>5.0</td>\n      <td>17.7</td>\n      <td>1.0</td>\n      <td>0.0</td>\n      <td>0.0</td>\n      <td>2021</td>\n      <td>Liverpool</td>\n    </tr>\n    <tr>\n      <th>4</th>\n      <td>2020-09-28</td>\n      <td>20:00</td>\n      <td>Premier League</td>\n      <td>Matchweek 3</td>\n      <td>Mon</td>\n      <td>Home</td>\n      <td>W</td>\n      <td>3.0</td>\n      <td>1.0</td>\n      <td>Arsenal</td>\n      <td>...</td>\n      <td>Match Report</td>\n      <td>NaN</td>\n      <td>21.0</td>\n      <td>9.0</td>\n      <td>16.8</td>\n      <td>0.0</td>\n      <td>0.0</td>\n      <td>0.0</td>\n      <td>2021</td>\n      <td>Liverpool</td>\n    </tr>\n    <tr>\n      <th>6</th>\n      <td>2020-10-04</td>\n      <td>19:15</td>\n      <td>Premier League</td>\n      <td>Matchweek 4</td>\n      <td>Sun</td>\n      <td>Away</td>\n      <td>L</td>\n      <td>2.0</td>\n      <td>7.0</td>\n      <td>Aston Villa</td>\n      <td>...</td>\n      <td>Match Report</td>\n      <td>NaN</td>\n      <td>14.0</td>\n      <td>8.0</td>\n      <td>15.8</td>\n      <td>1.0</td>\n      <td>0.0</td>\n      <td>0.0</td>\n      <td>2021</td>\n      <td>Liverpool</td>\n    </tr>\n    <tr>\n      <th>7</th>\n      <td>2020-10-17</td>\n      <td>12:30</td>\n      <td>Premier League</td>\n      <td>Matchweek 5</td>\n      <td>Sat</td>\n      <td>Away</td>\n      <td>D</td>\n      <td>2.0</td>\n      <td>2.0</td>\n      <td>Everton</td>\n      <td>...</td>\n      <td>Match Report</td>\n      <td>NaN</td>\n      <td>22.0</td>\n      <td>8.0</td>\n      <td>15.0</td>\n      <td>1.0</td>\n      <td>0.0</td>\n      <td>0.0</td>\n      <td>2021</td>\n      <td>Liverpool</td>\n    </tr>\n    <tr>\n      <th>9</th>\n      <td>2020-10-24</td>\n      <td>20:00</td>\n      <td>Premier League</td>\n      <td>Matchweek 6</td>\n      <td>Sat</td>\n      <td>Home</td>\n      <td>W</td>\n      <td>2.0</td>\n      <td>1.0</td>\n      <td>Sheffield Utd</td>\n      <td>...</td>\n      <td>Match Report</td>\n      <td>NaN</td>\n      <td>17.0</td>\n      <td>5.0</td>\n      <td>18.2</td>\n      <td>1.0</td>\n      <td>0.0</td>\n      <td>0.0</td>\n      <td>2021</td>\n      <td>Liverpool</td>\n    </tr>\n    <tr>\n      <th>11</th>\n      <td>2020-10-31</td>\n      <td>17:30</td>\n      <td>Premier League</td>\n      <td>Matchweek 7</td>\n      <td>Sat</td>\n      <td>Home</td>\n      <td>W</td>\n      <td>2.0</td>\n      <td>1.0</td>\n      <td>West Ham</td>\n      <td>...</td>\n      <td>Match Report</td>\n      <td>NaN</td>\n      <td>8.0</td>\n      <td>2.0</td>\n      <td>18.6</td>\n      <td>1.0</td>\n      <td>1.0</td>\n      <td>1.0</td>\n      <td>2021</td>\n      <td>Liverpool</td>\n    </tr>\n    <tr>\n      <th>13</th>\n      <td>2020-11-08</td>\n      <td>16:30</td>\n      <td>Premier League</td>\n      <td>Matchweek 8</td>\n      <td>Sun</td>\n      <td>Away</td>\n      <td>D</td>\n      <td>1.0</td>\n      <td>1.0</td>\n      <td>Manchester City</td>\n      <td>...</td>\n      <td>Match Report</td>\n      <td>NaN</td>\n      <td>9.0</td>\n      <td>2.0</td>\n      <td>21.5</td>\n      <td>0.0</td>\n      <td>1.0</td>\n      <td>1.0</td>\n      <td>2021</td>\n      <td>Liverpool</td>\n    </tr>\n    <tr>\n      <th>14</th>\n      <td>2020-11-22</td>\n      <td>19:15</td>\n      <td>Premier League</td>\n      <td>Matchweek 9</td>\n      <td>Sun</td>\n      <td>Home</td>\n      <td>W</td>\n      <td>3.0</td>\n      <td>0.0</td>\n      <td>Leicester City</td>\n      <td>...</td>\n      <td>Match Report</td>\n      <td>NaN</td>\n      <td>24.0</td>\n      <td>12.0</td>\n      <td>11.9</td>\n      <td>0.0</td>\n      <td>0.0</td>\n      <td>0.0</td>\n      <td>2021</td>\n      <td>Liverpool</td>\n    </tr>\n    <tr>\n      <th>16</th>\n      <td>2020-11-28</td>\n      <td>12:30</td>\n      <td>Premier League</td>\n      <td>Matchweek 10</td>\n      <td>Sat</td>\n      <td>Away</td>\n      <td>D</td>\n      <td>1.0</td>\n      <td>1.0</td>\n      <td>Brighton</td>\n      <td>...</td>\n      <td>Match Report</td>\n      <td>NaN</td>\n      <td>6.0</td>\n      <td>2.0</td>\n      <td>20.9</td>\n      <td>0.0</td>\n      <td>0.0</td>\n      <td>0.0</td>\n      <td>2021</td>\n      <td>Liverpool</td>\n    </tr>\n    <tr>\n      <th>18</th>\n      <td>2020-12-06</td>\n      <td>19:15</td>\n      <td>Premier League</td>\n      <td>Matchweek 11</td>\n      <td>Sun</td>\n      <td>Home</td>\n      <td>W</td>\n      <td>4.0</td>\n      <td>0.0</td>\n      <td>Wolves</td>\n      <td>...</td>\n      <td>Match Report</td>\n      <td>NaN</td>\n      <td>11.0</td>\n      <td>6.0</td>\n      <td>16.6</td>\n      <td>1.0</td>\n      <td>0.0</td>\n      <td>0.0</td>\n      <td>2021</td>\n      <td>Liverpool</td>\n    </tr>\n    <tr>\n      <th>20</th>\n      <td>2020-12-13</td>\n      <td>16:30</td>\n      <td>Premier League</td>\n      <td>Matchweek 12</td>\n      <td>Sun</td>\n      <td>Away</td>\n      <td>D</td>\n      <td>1.0</td>\n      <td>1.0</td>\n      <td>Fulham</td>\n      <td>...</td>\n      <td>Match Report</td>\n      <td>NaN</td>\n      <td>11.0</td>\n      <td>5.0</td>\n      <td>20.0</td>\n      <td>1.0</td>\n      <td>1.0</td>\n      <td>1.0</td>\n      <td>2021</td>\n      <td>Liverpool</td>\n    </tr>\n    <tr>\n      <th>21</th>\n      <td>2020-12-16</td>\n      <td>20:00</td>\n      <td>Premier League</td>\n      <td>Matchweek 13</td>\n      <td>Wed</td>\n      <td>Home</td>\n      <td>W</td>\n      <td>2.0</td>\n      <td>1.0</td>\n      <td>Tottenham</td>\n      <td>...</td>\n      <td>Match Report</td>\n      <td>NaN</td>\n      <td>17.0</td>\n      <td>11.0</td>\n      <td>15.5</td>\n      <td>0.0</td>\n      <td>0.0</td>\n      <td>0.0</td>\n      <td>2021</td>\n      <td>Liverpool</td>\n    </tr>\n    <tr>\n      <th>22</th>\n      <td>2020-12-19</td>\n      <td>12:30</td>\n      <td>Premier League</td>\n      <td>Matchweek 14</td>\n      <td>Sat</td>\n      <td>Away</td>\n      <td>W</td>\n      <td>7.0</td>\n      <td>0.0</td>\n      <td>Crystal Palace</td>\n      <td>...</td>\n      <td>Match Report</td>\n      <td>NaN</td>\n      <td>14.0</td>\n      <td>7.0</td>\n      <td>13.2</td>\n      <td>1.0</td>\n      <td>0.0</td>\n      <td>0.0</td>\n      <td>2021</td>\n      <td>Liverpool</td>\n    </tr>\n    <tr>\n      <th>23</th>\n      <td>2020-12-27</td>\n      <td>16:30</td>\n      <td>Premier League</td>\n      <td>Matchweek 15</td>\n      <td>Sun</td>\n      <td>Home</td>\n      <td>D</td>\n      <td>1.0</td>\n      <td>1.0</td>\n      <td>West Brom</td>\n      <td>...</td>\n      <td>Match Report</td>\n      <td>NaN</td>\n      <td>17.0</td>\n      <td>2.0</td>\n      <td>17.8</td>\n      <td>2.0</td>\n      <td>0.0</td>\n      <td>0.0</td>\n      <td>2021</td>\n      <td>Liverpool</td>\n    </tr>\n    <tr>\n      <th>24</th>\n      <td>2020-12-30</td>\n      <td>20:00</td>\n      <td>Premier League</td>\n      <td>Matchweek 16</td>\n      <td>Wed</td>\n      <td>Away</td>\n      <td>D</td>\n      <td>0.0</td>\n      <td>0.0</td>\n      <td>Newcastle Utd</td>\n      <td>...</td>\n      <td>Match Report</td>\n      <td>NaN</td>\n      <td>11.0</td>\n      <td>4.0</td>\n      <td>16.7</td>\n      <td>0.0</td>\n      <td>0.0</td>\n      <td>0.0</td>\n      <td>2021</td>\n      <td>Liverpool</td>\n    </tr>\n    <tr>\n      <th>25</th>\n      <td>2021-01-04</td>\n      <td>20:00</td>\n      <td>Premier League</td>\n      <td>Matchweek 17</td>\n      <td>Mon</td>\n      <td>Away</td>\n      <td>L</td>\n      <td>0.0</td>\n      <td>1.0</td>\n      <td>Southampton</td>\n      <td>...</td>\n      <td>Match Report</td>\n      <td>NaN</td>\n      <td>17.0</td>\n      <td>1.0</td>\n      <td>14.3</td>\n      <td>0.0</td>\n      <td>0.0</td>\n      <td>0.0</td>\n      <td>2021</td>\n      <td>Liverpool</td>\n    </tr>\n    <tr>\n      <th>27</th>\n      <td>2021-01-17</td>\n      <td>16:30</td>\n      <td>Premier League</td>\n      <td>Matchweek 19</td>\n      <td>Sun</td>\n      <td>Home</td>\n      <td>D</td>\n      <td>0.0</td>\n      <td>0.0</td>\n      <td>Manchester Utd</td>\n      <td>...</td>\n      <td>Match Report</td>\n      <td>NaN</td>\n      <td>17.0</td>\n      <td>3.0</td>\n      <td>17.1</td>\n      <td>0.0</td>\n      <td>0.0</td>\n      <td>0.0</td>\n      <td>2021</td>\n      <td>Liverpool</td>\n    </tr>\n    <tr>\n      <th>28</th>\n      <td>2021-01-21</td>\n      <td>20:00</td>\n      <td>Premier League</td>\n      <td>Matchweek 18</td>\n      <td>Thu</td>\n      <td>Home</td>\n      <td>L</td>\n      <td>0.0</td>\n      <td>1.0</td>\n      <td>Burnley</td>\n      <td>...</td>\n      <td>Match Report</td>\n      <td>NaN</td>\n      <td>27.0</td>\n      <td>6.0</td>\n      <td>17.3</td>\n      <td>0.0</td>\n      <td>0.0</td>\n      <td>0.0</td>\n      <td>2021</td>\n      <td>Liverpool</td>\n    </tr>\n    <tr>\n      <th>30</th>\n      <td>2021-01-28</td>\n      <td>20:00</td>\n      <td>Premier League</td>\n      <td>Matchweek 20</td>\n      <td>Thu</td>\n      <td>Away</td>\n      <td>W</td>\n      <td>3.0</td>\n      <td>1.0</td>\n      <td>Tottenham</td>\n      <td>...</td>\n      <td>Match Report</td>\n      <td>NaN</td>\n      <td>14.0</td>\n      <td>7.0</td>\n      <td>14.7</td>\n      <td>0.0</td>\n      <td>0.0</td>\n      <td>0.0</td>\n      <td>2021</td>\n      <td>Liverpool</td>\n    </tr>\n    <tr>\n      <th>31</th>\n      <td>2021-01-31</td>\n      <td>16:30</td>\n      <td>Premier League</td>\n      <td>Matchweek 21</td>\n      <td>Sun</td>\n      <td>Away</td>\n      <td>W</td>\n      <td>3.0</td>\n      <td>1.0</td>\n      <td>West Ham</td>\n      <td>...</td>\n      <td>Match Report</td>\n      <td>NaN</td>\n      <td>14.0</td>\n      <td>5.0</td>\n      <td>15.3</td>\n      <td>0.0</td>\n      <td>0.0</td>\n      <td>0.0</td>\n      <td>2021</td>\n      <td>Liverpool</td>\n    </tr>\n    <tr>\n      <th>32</th>\n      <td>2021-02-03</td>\n      <td>20:15</td>\n      <td>Premier League</td>\n      <td>Matchweek 22</td>\n      <td>Wed</td>\n      <td>Home</td>\n      <td>L</td>\n      <td>0.0</td>\n      <td>1.0</td>\n      <td>Brighton</td>\n      <td>...</td>\n      <td>Match Report</td>\n      <td>NaN</td>\n      <td>11.0</td>\n      <td>0.0</td>\n      <td>19.9</td>\n      <td>0.0</td>\n      <td>0.0</td>\n      <td>0.0</td>\n      <td>2021</td>\n      <td>Liverpool</td>\n    </tr>\n    <tr>\n      <th>33</th>\n      <td>2021-02-07</td>\n      <td>16:30</td>\n      <td>Premier League</td>\n      <td>Matchweek 23</td>\n      <td>Sun</td>\n      <td>Home</td>\n      <td>L</td>\n      <td>1.0</td>\n      <td>4.0</td>\n      <td>Manchester City</td>\n      <td>...</td>\n      <td>Match Report</td>\n      <td>NaN</td>\n      <td>7.0</td>\n      <td>2.0</td>\n      <td>17.9</td>\n      <td>1.0</td>\n      <td>1.0</td>\n      <td>1.0</td>\n      <td>2021</td>\n      <td>Liverpool</td>\n    </tr>\n    <tr>\n      <th>34</th>\n      <td>2021-02-13</td>\n      <td>12:30</td>\n      <td>Premier League</td>\n      <td>Matchweek 24</td>\n      <td>Sat</td>\n      <td>Away</td>\n      <td>L</td>\n      <td>1.0</td>\n      <td>3.0</td>\n      <td>Leicester City</td>\n      <td>...</td>\n      <td>Match Report</td>\n      <td>NaN</td>\n      <td>15.0</td>\n      <td>4.0</td>\n      <td>15.4</td>\n      <td>2.0</td>\n      <td>0.0</td>\n      <td>0.0</td>\n      <td>2021</td>\n      <td>Liverpool</td>\n    </tr>\n    <tr>\n      <th>36</th>\n      <td>2021-02-20</td>\n      <td>17:30</td>\n      <td>Premier League</td>\n      <td>Matchweek 25</td>\n      <td>Sat</td>\n      <td>Home</td>\n      <td>L</td>\n      <td>0.0</td>\n      <td>2.0</td>\n      <td>Everton</td>\n      <td>...</td>\n      <td>Match Report</td>\n      <td>NaN</td>\n      <td>16.0</td>\n      <td>6.0</td>\n      <td>15.9</td>\n      <td>1.0</td>\n      <td>0.0</td>\n      <td>0.0</td>\n      <td>2021</td>\n      <td>Liverpool</td>\n    </tr>\n    <tr>\n      <th>37</th>\n      <td>2021-02-28</td>\n      <td>19:15</td>\n      <td>Premier League</td>\n      <td>Matchweek 26</td>\n      <td>Sun</td>\n      <td>Away</td>\n      <td>W</td>\n      <td>2.0</td>\n      <td>0.0</td>\n      <td>Sheffield Utd</td>\n      <td>...</td>\n      <td>Match Report</td>\n      <td>NaN</td>\n      <td>15.0</td>\n      <td>8.0</td>\n      <td>14.2</td>\n      <td>0.0</td>\n      <td>0.0</td>\n      <td>0.0</td>\n      <td>2021</td>\n      <td>Liverpool</td>\n    </tr>\n    <tr>\n      <th>38</th>\n      <td>2021-03-04</td>\n      <td>20:15</td>\n      <td>Premier League</td>\n      <td>Matchweek 29</td>\n      <td>Thu</td>\n      <td>Home</td>\n      <td>L</td>\n      <td>0.0</td>\n      <td>1.0</td>\n      <td>Chelsea</td>\n      <td>...</td>\n      <td>Match Report</td>\n      <td>NaN</td>\n      <td>7.0</td>\n      <td>1.0</td>\n      <td>18.4</td>\n      <td>0.0</td>\n      <td>0.0</td>\n      <td>0.0</td>\n      <td>2021</td>\n      <td>Liverpool</td>\n    </tr>\n    <tr>\n      <th>39</th>\n      <td>2021-03-07</td>\n      <td>14:00</td>\n      <td>Premier League</td>\n      <td>Matchweek 27</td>\n      <td>Sun</td>\n      <td>Home</td>\n      <td>L</td>\n      <td>0.0</td>\n      <td>1.0</td>\n      <td>Fulham</td>\n      <td>...</td>\n      <td>Match Report</td>\n      <td>NaN</td>\n      <td>16.0</td>\n      <td>3.0</td>\n      <td>17.0</td>\n      <td>1.0</td>\n      <td>0.0</td>\n      <td>0.0</td>\n      <td>2021</td>\n      <td>Liverpool</td>\n    </tr>\n    <tr>\n      <th>41</th>\n      <td>2021-03-15</td>\n      <td>20:00</td>\n      <td>Premier League</td>\n      <td>Matchweek 28</td>\n      <td>Mon</td>\n      <td>Away</td>\n      <td>W</td>\n      <td>1.0</td>\n      <td>0.0</td>\n      <td>Wolves</td>\n      <td>...</td>\n      <td>Match Report</td>\n      <td>NaN</td>\n      <td>12.0</td>\n      <td>4.0</td>\n      <td>15.9</td>\n      <td>0.0</td>\n      <td>0.0</td>\n      <td>0.0</td>\n      <td>2021</td>\n      <td>Liverpool</td>\n    </tr>\n    <tr>\n      <th>42</th>\n      <td>2021-04-03</td>\n      <td>20:00</td>\n      <td>Premier League</td>\n      <td>Matchweek 30</td>\n      <td>Sat</td>\n      <td>Away</td>\n      <td>W</td>\n      <td>3.0</td>\n      <td>0.0</td>\n      <td>Arsenal</td>\n      <td>...</td>\n      <td>Match Report</td>\n      <td>NaN</td>\n      <td>16.0</td>\n      <td>7.0</td>\n      <td>17.0</td>\n      <td>0.0</td>\n      <td>0.0</td>\n      <td>0.0</td>\n      <td>2021</td>\n      <td>Liverpool</td>\n    </tr>\n    <tr>\n      <th>44</th>\n      <td>2021-04-10</td>\n      <td>15:00</td>\n      <td>Premier League</td>\n      <td>Matchweek 31</td>\n      <td>Sat</td>\n      <td>Home</td>\n      <td>W</td>\n      <td>2.0</td>\n      <td>1.0</td>\n      <td>Aston Villa</td>\n      <td>...</td>\n      <td>Match Report</td>\n      <td>NaN</td>\n      <td>23.0</td>\n      <td>8.0</td>\n      <td>16.7</td>\n      <td>1.0</td>\n      <td>0.0</td>\n      <td>0.0</td>\n      <td>2021</td>\n      <td>Liverpool</td>\n    </tr>\n    <tr>\n      <th>46</th>\n      <td>2021-04-19</td>\n      <td>20:00</td>\n      <td>Premier League</td>\n      <td>Matchweek 32</td>\n      <td>Mon</td>\n      <td>Away</td>\n      <td>D</td>\n      <td>1.0</td>\n      <td>1.0</td>\n      <td>Leeds United</td>\n      <td>...</td>\n      <td>Match Report</td>\n      <td>NaN</td>\n      <td>17.0</td>\n      <td>7.0</td>\n      <td>15.7</td>\n      <td>0.0</td>\n      <td>0.0</td>\n      <td>0.0</td>\n      <td>2021</td>\n      <td>Liverpool</td>\n    </tr>\n    <tr>\n      <th>47</th>\n      <td>2021-04-24</td>\n      <td>12:30</td>\n      <td>Premier League</td>\n      <td>Matchweek 33</td>\n      <td>Sat</td>\n      <td>Home</td>\n      <td>D</td>\n      <td>1.0</td>\n      <td>1.0</td>\n      <td>Newcastle Utd</td>\n      <td>...</td>\n      <td>Match Report</td>\n      <td>NaN</td>\n      <td>21.0</td>\n      <td>9.0</td>\n      <td>17.0</td>\n      <td>1.0</td>\n      <td>0.0</td>\n      <td>0.0</td>\n      <td>2021</td>\n      <td>Liverpool</td>\n    </tr>\n    <tr>\n      <th>48</th>\n      <td>2021-05-08</td>\n      <td>20:15</td>\n      <td>Premier League</td>\n      <td>Matchweek 35</td>\n      <td>Sat</td>\n      <td>Home</td>\n      <td>W</td>\n      <td>2.0</td>\n      <td>0.0</td>\n      <td>Southampton</td>\n      <td>...</td>\n      <td>Match Report</td>\n      <td>NaN</td>\n      <td>14.0</td>\n      <td>6.0</td>\n      <td>12.4</td>\n      <td>0.0</td>\n      <td>0.0</td>\n      <td>0.0</td>\n      <td>2021</td>\n      <td>Liverpool</td>\n    </tr>\n    <tr>\n      <th>49</th>\n      <td>2021-05-13</td>\n      <td>20:15</td>\n      <td>Premier League</td>\n      <td>Matchweek 34</td>\n      <td>Thu</td>\n      <td>Away</td>\n      <td>W</td>\n      <td>4.0</td>\n      <td>2.0</td>\n      <td>Manchester Utd</td>\n      <td>...</td>\n      <td>Match Report</td>\n      <td>NaN</td>\n      <td>17.0</td>\n      <td>8.0</td>\n      <td>14.9</td>\n      <td>0.0</td>\n      <td>0.0</td>\n      <td>0.0</td>\n      <td>2021</td>\n      <td>Liverpool</td>\n    </tr>\n    <tr>\n      <th>50</th>\n      <td>2021-05-16</td>\n      <td>16:30</td>\n      <td>Premier League</td>\n      <td>Matchweek 36</td>\n      <td>Sun</td>\n      <td>Away</td>\n      <td>W</td>\n      <td>2.0</td>\n      <td>1.0</td>\n      <td>West Brom</td>\n      <td>...</td>\n      <td>Match Report</td>\n      <td>NaN</td>\n      <td>26.0</td>\n      <td>6.0</td>\n      <td>16.9</td>\n      <td>1.0</td>\n      <td>0.0</td>\n      <td>0.0</td>\n      <td>2021</td>\n      <td>Liverpool</td>\n    </tr>\n    <tr>\n      <th>51</th>\n      <td>2021-05-19</td>\n      <td>20:15</td>\n      <td>Premier League</td>\n      <td>Matchweek 37</td>\n      <td>Wed</td>\n      <td>Away</td>\n      <td>W</td>\n      <td>3.0</td>\n      <td>0.0</td>\n      <td>Burnley</td>\n      <td>...</td>\n      <td>Match Report</td>\n      <td>NaN</td>\n      <td>20.0</td>\n      <td>3.0</td>\n      <td>15.5</td>\n      <td>1.0</td>\n      <td>0.0</td>\n      <td>0.0</td>\n      <td>2021</td>\n      <td>Liverpool</td>\n    </tr>\n    <tr>\n      <th>52</th>\n      <td>2021-05-23</td>\n      <td>16:00</td>\n      <td>Premier League</td>\n      <td>Matchweek 38</td>\n      <td>Sun</td>\n      <td>Home</td>\n      <td>W</td>\n      <td>2.0</td>\n      <td>0.0</td>\n      <td>Crystal Palace</td>\n      <td>...</td>\n      <td>Match Report</td>\n      <td>NaN</td>\n      <td>19.0</td>\n      <td>5.0</td>\n      <td>14.2</td>\n      <td>1.0</td>\n      <td>0.0</td>\n      <td>0.0</td>\n      <td>2021</td>\n      <td>Liverpool</td>\n    </tr>\n  </tbody>\n</table>\n<p>38 rows × 27 columns</p>\n</div>"
          },
          "metadata": {}
        }
      ],
      "execution_count": 7
    },
    {
      "cell_type": "code",
      "source": "matches[\"round\"].value_counts()",
      "metadata": {
        "trusted": true
      },
      "outputs": [
        {
          "execution_count": 8,
          "output_type": "execute_result",
          "data": {
            "text/plain": "Matchweek 1     39\nMatchweek 16    39\nMatchweek 34    39\nMatchweek 32    39\nMatchweek 31    39\nMatchweek 29    39\nMatchweek 28    39\nMatchweek 26    39\nMatchweek 25    39\nMatchweek 24    39\nMatchweek 23    39\nMatchweek 2     39\nMatchweek 19    39\nMatchweek 17    39\nMatchweek 20    39\nMatchweek 15    39\nMatchweek 5     39\nMatchweek 3     39\nMatchweek 13    39\nMatchweek 12    39\nMatchweek 4     39\nMatchweek 11    39\nMatchweek 10    39\nMatchweek 9     39\nMatchweek 8     39\nMatchweek 14    39\nMatchweek 7     39\nMatchweek 6     39\nMatchweek 30    37\nMatchweek 27    37\nMatchweek 22    37\nMatchweek 21    37\nMatchweek 18    37\nMatchweek 33    32\nMatchweek 35    20\nMatchweek 36    20\nMatchweek 37    20\nMatchweek 38    20\nName: round, dtype: int64"
          },
          "metadata": {}
        }
      ],
      "execution_count": 8
    },
    {
      "cell_type": "code",
      "source": "matches.dtypes",
      "metadata": {
        "trusted": true
      },
      "outputs": [
        {
          "execution_count": 9,
          "output_type": "execute_result",
          "data": {
            "text/plain": "date             object\ntime             object\ncomp             object\nround            object\nday              object\nvenue            object\nresult           object\ngf              float64\nga              float64\nopponent         object\nxg              float64\nxga             float64\nposs            float64\nattendance      float64\ncaptain          object\nformation        object\nreferee          object\nmatch report     object\nnotes           float64\nsh              float64\nsot             float64\ndist            float64\nfk              float64\npk              float64\npkatt           float64\nseason            int64\nteam             object\ndtype: object"
          },
          "metadata": {}
        }
      ],
      "execution_count": 9
    },
    {
      "cell_type": "code",
      "source": "matches[\"date\"] = pd.to_datetime(matches[\"date\"])",
      "metadata": {
        "trusted": true
      },
      "outputs": [],
      "execution_count": 10
    },
    {
      "cell_type": "code",
      "source": "matches",
      "metadata": {
        "trusted": true
      },
      "outputs": [
        {
          "execution_count": 11,
          "output_type": "execute_result",
          "data": {
            "text/plain": "         date   time            comp         round  day venue result   gf  \\\n1  2021-08-15  16:30  Premier League   Matchweek 1  Sun  Away      L  0.0   \n2  2021-08-21  15:00  Premier League   Matchweek 2  Sat  Home      W  5.0   \n3  2021-08-28  12:30  Premier League   Matchweek 3  Sat  Home      W  5.0   \n4  2021-09-11  15:00  Premier League   Matchweek 4  Sat  Away      W  1.0   \n6  2021-09-18  15:00  Premier League   Matchweek 5  Sat  Home      D  0.0   \n..        ...    ...             ...           ...  ...   ...    ...  ...   \n38 2021-05-02  19:15  Premier League  Matchweek 34  Sun  Away      L  0.0   \n39 2021-05-08  15:00  Premier League  Matchweek 35  Sat  Home      L  0.0   \n40 2021-05-16  19:00  Premier League  Matchweek 36  Sun  Away      W  1.0   \n41 2021-05-19  18:00  Premier League  Matchweek 37  Wed  Away      L  0.0   \n42 2021-05-23  16:00  Premier League  Matchweek 38  Sun  Home      W  1.0   \n\n     ga        opponent  ...  match report  notes    sh   sot  dist   fk   pk  \\\n1   1.0       Tottenham  ...  Match Report    NaN  18.0   4.0  16.9  1.0  0.0   \n2   0.0    Norwich City  ...  Match Report    NaN  16.0   4.0  17.3  1.0  0.0   \n3   0.0         Arsenal  ...  Match Report    NaN  25.0  10.0  14.3  0.0  0.0   \n4   0.0  Leicester City  ...  Match Report    NaN  25.0   8.0  14.0  0.0  0.0   \n6   0.0     Southampton  ...  Match Report    NaN  16.0   1.0  15.7  1.0  0.0   \n..  ...             ...  ...           ...    ...   ...   ...   ...  ...  ...   \n38  4.0       Tottenham  ...  Match Report    NaN   8.0   1.0  17.4  0.0  0.0   \n39  2.0  Crystal Palace  ...  Match Report    NaN   7.0   0.0  11.4  1.0  0.0   \n40  0.0         Everton  ...  Match Report    NaN  10.0   3.0  17.0  0.0  0.0   \n41  1.0   Newcastle Utd  ...  Match Report    NaN  11.0   1.0  16.0  1.0  0.0   \n42  0.0         Burnley  ...  Match Report    NaN  12.0   3.0  17.0  0.0  0.0   \n\n   pkatt  season              team  \n1    0.0    2022   Manchester City  \n2    0.0    2022   Manchester City  \n3    0.0    2022   Manchester City  \n4    0.0    2022   Manchester City  \n6    0.0    2022   Manchester City  \n..   ...     ...               ...  \n38   0.0    2021  Sheffield United  \n39   0.0    2021  Sheffield United  \n40   0.0    2021  Sheffield United  \n41   0.0    2021  Sheffield United  \n42   0.0    2021  Sheffield United  \n\n[1389 rows x 27 columns]",
            "text/html": "<div>\n<style scoped>\n    .dataframe tbody tr th:only-of-type {\n        vertical-align: middle;\n    }\n\n    .dataframe tbody tr th {\n        vertical-align: top;\n    }\n\n    .dataframe thead th {\n        text-align: right;\n    }\n</style>\n<table border=\"1\" class=\"dataframe\">\n  <thead>\n    <tr style=\"text-align: right;\">\n      <th></th>\n      <th>date</th>\n      <th>time</th>\n      <th>comp</th>\n      <th>round</th>\n      <th>day</th>\n      <th>venue</th>\n      <th>result</th>\n      <th>gf</th>\n      <th>ga</th>\n      <th>opponent</th>\n      <th>...</th>\n      <th>match report</th>\n      <th>notes</th>\n      <th>sh</th>\n      <th>sot</th>\n      <th>dist</th>\n      <th>fk</th>\n      <th>pk</th>\n      <th>pkatt</th>\n      <th>season</th>\n      <th>team</th>\n    </tr>\n  </thead>\n  <tbody>\n    <tr>\n      <th>1</th>\n      <td>2021-08-15</td>\n      <td>16:30</td>\n      <td>Premier League</td>\n      <td>Matchweek 1</td>\n      <td>Sun</td>\n      <td>Away</td>\n      <td>L</td>\n      <td>0.0</td>\n      <td>1.0</td>\n      <td>Tottenham</td>\n      <td>...</td>\n      <td>Match Report</td>\n      <td>NaN</td>\n      <td>18.0</td>\n      <td>4.0</td>\n      <td>16.9</td>\n      <td>1.0</td>\n      <td>0.0</td>\n      <td>0.0</td>\n      <td>2022</td>\n      <td>Manchester City</td>\n    </tr>\n    <tr>\n      <th>2</th>\n      <td>2021-08-21</td>\n      <td>15:00</td>\n      <td>Premier League</td>\n      <td>Matchweek 2</td>\n      <td>Sat</td>\n      <td>Home</td>\n      <td>W</td>\n      <td>5.0</td>\n      <td>0.0</td>\n      <td>Norwich City</td>\n      <td>...</td>\n      <td>Match Report</td>\n      <td>NaN</td>\n      <td>16.0</td>\n      <td>4.0</td>\n      <td>17.3</td>\n      <td>1.0</td>\n      <td>0.0</td>\n      <td>0.0</td>\n      <td>2022</td>\n      <td>Manchester City</td>\n    </tr>\n    <tr>\n      <th>3</th>\n      <td>2021-08-28</td>\n      <td>12:30</td>\n      <td>Premier League</td>\n      <td>Matchweek 3</td>\n      <td>Sat</td>\n      <td>Home</td>\n      <td>W</td>\n      <td>5.0</td>\n      <td>0.0</td>\n      <td>Arsenal</td>\n      <td>...</td>\n      <td>Match Report</td>\n      <td>NaN</td>\n      <td>25.0</td>\n      <td>10.0</td>\n      <td>14.3</td>\n      <td>0.0</td>\n      <td>0.0</td>\n      <td>0.0</td>\n      <td>2022</td>\n      <td>Manchester City</td>\n    </tr>\n    <tr>\n      <th>4</th>\n      <td>2021-09-11</td>\n      <td>15:00</td>\n      <td>Premier League</td>\n      <td>Matchweek 4</td>\n      <td>Sat</td>\n      <td>Away</td>\n      <td>W</td>\n      <td>1.0</td>\n      <td>0.0</td>\n      <td>Leicester City</td>\n      <td>...</td>\n      <td>Match Report</td>\n      <td>NaN</td>\n      <td>25.0</td>\n      <td>8.0</td>\n      <td>14.0</td>\n      <td>0.0</td>\n      <td>0.0</td>\n      <td>0.0</td>\n      <td>2022</td>\n      <td>Manchester City</td>\n    </tr>\n    <tr>\n      <th>6</th>\n      <td>2021-09-18</td>\n      <td>15:00</td>\n      <td>Premier League</td>\n      <td>Matchweek 5</td>\n      <td>Sat</td>\n      <td>Home</td>\n      <td>D</td>\n      <td>0.0</td>\n      <td>0.0</td>\n      <td>Southampton</td>\n      <td>...</td>\n      <td>Match Report</td>\n      <td>NaN</td>\n      <td>16.0</td>\n      <td>1.0</td>\n      <td>15.7</td>\n      <td>1.0</td>\n      <td>0.0</td>\n      <td>0.0</td>\n      <td>2022</td>\n      <td>Manchester City</td>\n    </tr>\n    <tr>\n      <th>...</th>\n      <td>...</td>\n      <td>...</td>\n      <td>...</td>\n      <td>...</td>\n      <td>...</td>\n      <td>...</td>\n      <td>...</td>\n      <td>...</td>\n      <td>...</td>\n      <td>...</td>\n      <td>...</td>\n      <td>...</td>\n      <td>...</td>\n      <td>...</td>\n      <td>...</td>\n      <td>...</td>\n      <td>...</td>\n      <td>...</td>\n      <td>...</td>\n      <td>...</td>\n      <td>...</td>\n    </tr>\n    <tr>\n      <th>38</th>\n      <td>2021-05-02</td>\n      <td>19:15</td>\n      <td>Premier League</td>\n      <td>Matchweek 34</td>\n      <td>Sun</td>\n      <td>Away</td>\n      <td>L</td>\n      <td>0.0</td>\n      <td>4.0</td>\n      <td>Tottenham</td>\n      <td>...</td>\n      <td>Match Report</td>\n      <td>NaN</td>\n      <td>8.0</td>\n      <td>1.0</td>\n      <td>17.4</td>\n      <td>0.0</td>\n      <td>0.0</td>\n      <td>0.0</td>\n      <td>2021</td>\n      <td>Sheffield United</td>\n    </tr>\n    <tr>\n      <th>39</th>\n      <td>2021-05-08</td>\n      <td>15:00</td>\n      <td>Premier League</td>\n      <td>Matchweek 35</td>\n      <td>Sat</td>\n      <td>Home</td>\n      <td>L</td>\n      <td>0.0</td>\n      <td>2.0</td>\n      <td>Crystal Palace</td>\n      <td>...</td>\n      <td>Match Report</td>\n      <td>NaN</td>\n      <td>7.0</td>\n      <td>0.0</td>\n      <td>11.4</td>\n      <td>1.0</td>\n      <td>0.0</td>\n      <td>0.0</td>\n      <td>2021</td>\n      <td>Sheffield United</td>\n    </tr>\n    <tr>\n      <th>40</th>\n      <td>2021-05-16</td>\n      <td>19:00</td>\n      <td>Premier League</td>\n      <td>Matchweek 36</td>\n      <td>Sun</td>\n      <td>Away</td>\n      <td>W</td>\n      <td>1.0</td>\n      <td>0.0</td>\n      <td>Everton</td>\n      <td>...</td>\n      <td>Match Report</td>\n      <td>NaN</td>\n      <td>10.0</td>\n      <td>3.0</td>\n      <td>17.0</td>\n      <td>0.0</td>\n      <td>0.0</td>\n      <td>0.0</td>\n      <td>2021</td>\n      <td>Sheffield United</td>\n    </tr>\n    <tr>\n      <th>41</th>\n      <td>2021-05-19</td>\n      <td>18:00</td>\n      <td>Premier League</td>\n      <td>Matchweek 37</td>\n      <td>Wed</td>\n      <td>Away</td>\n      <td>L</td>\n      <td>0.0</td>\n      <td>1.0</td>\n      <td>Newcastle Utd</td>\n      <td>...</td>\n      <td>Match Report</td>\n      <td>NaN</td>\n      <td>11.0</td>\n      <td>1.0</td>\n      <td>16.0</td>\n      <td>1.0</td>\n      <td>0.0</td>\n      <td>0.0</td>\n      <td>2021</td>\n      <td>Sheffield United</td>\n    </tr>\n    <tr>\n      <th>42</th>\n      <td>2021-05-23</td>\n      <td>16:00</td>\n      <td>Premier League</td>\n      <td>Matchweek 38</td>\n      <td>Sun</td>\n      <td>Home</td>\n      <td>W</td>\n      <td>1.0</td>\n      <td>0.0</td>\n      <td>Burnley</td>\n      <td>...</td>\n      <td>Match Report</td>\n      <td>NaN</td>\n      <td>12.0</td>\n      <td>3.0</td>\n      <td>17.0</td>\n      <td>0.0</td>\n      <td>0.0</td>\n      <td>0.0</td>\n      <td>2021</td>\n      <td>Sheffield United</td>\n    </tr>\n  </tbody>\n</table>\n<p>1389 rows × 27 columns</p>\n</div>"
          },
          "metadata": {}
        }
      ],
      "execution_count": 11
    },
    {
      "cell_type": "code",
      "source": "matches[\"venue_code\"] = matches[\"venue\"].astype(\"category\").cat.codes",
      "metadata": {
        "trusted": true
      },
      "outputs": [],
      "execution_count": 12
    },
    {
      "cell_type": "code",
      "source": "matches[\"opp_code\"] = matches[\"opponent\"].astype(\"category\").cat.codes",
      "metadata": {
        "trusted": true
      },
      "outputs": [],
      "execution_count": 14
    },
    {
      "cell_type": "code",
      "source": "matches[\"hour\"] = matches[\"time\"].str.replace(\":.+\", \"\", regex=True).astype(\"int\")",
      "metadata": {
        "trusted": true
      },
      "outputs": [],
      "execution_count": 15
    },
    {
      "cell_type": "code",
      "source": "matches[\"day_code\"] = matches[\"date\"].dt.dayofweek",
      "metadata": {
        "trusted": true
      },
      "outputs": [],
      "execution_count": 16
    },
    {
      "cell_type": "code",
      "source": "matches[\"target\"] = (matches[\"result\"] == \"W\").astype(\"int\")",
      "metadata": {
        "trusted": true
      },
      "outputs": [],
      "execution_count": 18
    },
    {
      "cell_type": "code",
      "source": "matches",
      "metadata": {
        "trusted": true
      },
      "outputs": [
        {
          "execution_count": 19,
          "output_type": "execute_result",
          "data": {
            "text/plain": "         date   time            comp         round  day venue result   gf  \\\n1  2021-08-15  16:30  Premier League   Matchweek 1  Sun  Away      L  0.0   \n2  2021-08-21  15:00  Premier League   Matchweek 2  Sat  Home      W  5.0   \n3  2021-08-28  12:30  Premier League   Matchweek 3  Sat  Home      W  5.0   \n4  2021-09-11  15:00  Premier League   Matchweek 4  Sat  Away      W  1.0   \n6  2021-09-18  15:00  Premier League   Matchweek 5  Sat  Home      D  0.0   \n..        ...    ...             ...           ...  ...   ...    ...  ...   \n38 2021-05-02  19:15  Premier League  Matchweek 34  Sun  Away      L  0.0   \n39 2021-05-08  15:00  Premier League  Matchweek 35  Sat  Home      L  0.0   \n40 2021-05-16  19:00  Premier League  Matchweek 36  Sun  Away      W  1.0   \n41 2021-05-19  18:00  Premier League  Matchweek 37  Wed  Away      L  0.0   \n42 2021-05-23  16:00  Premier League  Matchweek 38  Sun  Home      W  1.0   \n\n     ga        opponent  ...   fk   pk  pkatt  season              team  \\\n1   1.0       Tottenham  ...  1.0  0.0    0.0    2022   Manchester City   \n2   0.0    Norwich City  ...  1.0  0.0    0.0    2022   Manchester City   \n3   0.0         Arsenal  ...  0.0  0.0    0.0    2022   Manchester City   \n4   0.0  Leicester City  ...  0.0  0.0    0.0    2022   Manchester City   \n6   0.0     Southampton  ...  1.0  0.0    0.0    2022   Manchester City   \n..  ...             ...  ...  ...  ...    ...     ...               ...   \n38  4.0       Tottenham  ...  0.0  0.0    0.0    2021  Sheffield United   \n39  2.0  Crystal Palace  ...  1.0  0.0    0.0    2021  Sheffield United   \n40  0.0         Everton  ...  0.0  0.0    0.0    2021  Sheffield United   \n41  1.0   Newcastle Utd  ...  1.0  0.0    0.0    2021  Sheffield United   \n42  0.0         Burnley  ...  0.0  0.0    0.0    2021  Sheffield United   \n\n   venue_code opp_code hour  day_code  target  \n1           0       18   16         6       0  \n2           1       15   15         5       1  \n3           1        0   12         5       1  \n4           0       10   15         5       1  \n6           1       17   15         5       0  \n..        ...      ...  ...       ...     ...  \n38          0       18   19         6       0  \n39          1        6   15         5       0  \n40          0        7   19         6       1  \n41          0       14   18         2       0  \n42          1        4   16         6       1  \n\n[1389 rows x 32 columns]",
            "text/html": "<div>\n<style scoped>\n    .dataframe tbody tr th:only-of-type {\n        vertical-align: middle;\n    }\n\n    .dataframe tbody tr th {\n        vertical-align: top;\n    }\n\n    .dataframe thead th {\n        text-align: right;\n    }\n</style>\n<table border=\"1\" class=\"dataframe\">\n  <thead>\n    <tr style=\"text-align: right;\">\n      <th></th>\n      <th>date</th>\n      <th>time</th>\n      <th>comp</th>\n      <th>round</th>\n      <th>day</th>\n      <th>venue</th>\n      <th>result</th>\n      <th>gf</th>\n      <th>ga</th>\n      <th>opponent</th>\n      <th>...</th>\n      <th>fk</th>\n      <th>pk</th>\n      <th>pkatt</th>\n      <th>season</th>\n      <th>team</th>\n      <th>venue_code</th>\n      <th>opp_code</th>\n      <th>hour</th>\n      <th>day_code</th>\n      <th>target</th>\n    </tr>\n  </thead>\n  <tbody>\n    <tr>\n      <th>1</th>\n      <td>2021-08-15</td>\n      <td>16:30</td>\n      <td>Premier League</td>\n      <td>Matchweek 1</td>\n      <td>Sun</td>\n      <td>Away</td>\n      <td>L</td>\n      <td>0.0</td>\n      <td>1.0</td>\n      <td>Tottenham</td>\n      <td>...</td>\n      <td>1.0</td>\n      <td>0.0</td>\n      <td>0.0</td>\n      <td>2022</td>\n      <td>Manchester City</td>\n      <td>0</td>\n      <td>18</td>\n      <td>16</td>\n      <td>6</td>\n      <td>0</td>\n    </tr>\n    <tr>\n      <th>2</th>\n      <td>2021-08-21</td>\n      <td>15:00</td>\n      <td>Premier League</td>\n      <td>Matchweek 2</td>\n      <td>Sat</td>\n      <td>Home</td>\n      <td>W</td>\n      <td>5.0</td>\n      <td>0.0</td>\n      <td>Norwich City</td>\n      <td>...</td>\n      <td>1.0</td>\n      <td>0.0</td>\n      <td>0.0</td>\n      <td>2022</td>\n      <td>Manchester City</td>\n      <td>1</td>\n      <td>15</td>\n      <td>15</td>\n      <td>5</td>\n      <td>1</td>\n    </tr>\n    <tr>\n      <th>3</th>\n      <td>2021-08-28</td>\n      <td>12:30</td>\n      <td>Premier League</td>\n      <td>Matchweek 3</td>\n      <td>Sat</td>\n      <td>Home</td>\n      <td>W</td>\n      <td>5.0</td>\n      <td>0.0</td>\n      <td>Arsenal</td>\n      <td>...</td>\n      <td>0.0</td>\n      <td>0.0</td>\n      <td>0.0</td>\n      <td>2022</td>\n      <td>Manchester City</td>\n      <td>1</td>\n      <td>0</td>\n      <td>12</td>\n      <td>5</td>\n      <td>1</td>\n    </tr>\n    <tr>\n      <th>4</th>\n      <td>2021-09-11</td>\n      <td>15:00</td>\n      <td>Premier League</td>\n      <td>Matchweek 4</td>\n      <td>Sat</td>\n      <td>Away</td>\n      <td>W</td>\n      <td>1.0</td>\n      <td>0.0</td>\n      <td>Leicester City</td>\n      <td>...</td>\n      <td>0.0</td>\n      <td>0.0</td>\n      <td>0.0</td>\n      <td>2022</td>\n      <td>Manchester City</td>\n      <td>0</td>\n      <td>10</td>\n      <td>15</td>\n      <td>5</td>\n      <td>1</td>\n    </tr>\n    <tr>\n      <th>6</th>\n      <td>2021-09-18</td>\n      <td>15:00</td>\n      <td>Premier League</td>\n      <td>Matchweek 5</td>\n      <td>Sat</td>\n      <td>Home</td>\n      <td>D</td>\n      <td>0.0</td>\n      <td>0.0</td>\n      <td>Southampton</td>\n      <td>...</td>\n      <td>1.0</td>\n      <td>0.0</td>\n      <td>0.0</td>\n      <td>2022</td>\n      <td>Manchester City</td>\n      <td>1</td>\n      <td>17</td>\n      <td>15</td>\n      <td>5</td>\n      <td>0</td>\n    </tr>\n    <tr>\n      <th>...</th>\n      <td>...</td>\n      <td>...</td>\n      <td>...</td>\n      <td>...</td>\n      <td>...</td>\n      <td>...</td>\n      <td>...</td>\n      <td>...</td>\n      <td>...</td>\n      <td>...</td>\n      <td>...</td>\n      <td>...</td>\n      <td>...</td>\n      <td>...</td>\n      <td>...</td>\n      <td>...</td>\n      <td>...</td>\n      <td>...</td>\n      <td>...</td>\n      <td>...</td>\n      <td>...</td>\n    </tr>\n    <tr>\n      <th>38</th>\n      <td>2021-05-02</td>\n      <td>19:15</td>\n      <td>Premier League</td>\n      <td>Matchweek 34</td>\n      <td>Sun</td>\n      <td>Away</td>\n      <td>L</td>\n      <td>0.0</td>\n      <td>4.0</td>\n      <td>Tottenham</td>\n      <td>...</td>\n      <td>0.0</td>\n      <td>0.0</td>\n      <td>0.0</td>\n      <td>2021</td>\n      <td>Sheffield United</td>\n      <td>0</td>\n      <td>18</td>\n      <td>19</td>\n      <td>6</td>\n      <td>0</td>\n    </tr>\n    <tr>\n      <th>39</th>\n      <td>2021-05-08</td>\n      <td>15:00</td>\n      <td>Premier League</td>\n      <td>Matchweek 35</td>\n      <td>Sat</td>\n      <td>Home</td>\n      <td>L</td>\n      <td>0.0</td>\n      <td>2.0</td>\n      <td>Crystal Palace</td>\n      <td>...</td>\n      <td>1.0</td>\n      <td>0.0</td>\n      <td>0.0</td>\n      <td>2021</td>\n      <td>Sheffield United</td>\n      <td>1</td>\n      <td>6</td>\n      <td>15</td>\n      <td>5</td>\n      <td>0</td>\n    </tr>\n    <tr>\n      <th>40</th>\n      <td>2021-05-16</td>\n      <td>19:00</td>\n      <td>Premier League</td>\n      <td>Matchweek 36</td>\n      <td>Sun</td>\n      <td>Away</td>\n      <td>W</td>\n      <td>1.0</td>\n      <td>0.0</td>\n      <td>Everton</td>\n      <td>...</td>\n      <td>0.0</td>\n      <td>0.0</td>\n      <td>0.0</td>\n      <td>2021</td>\n      <td>Sheffield United</td>\n      <td>0</td>\n      <td>7</td>\n      <td>19</td>\n      <td>6</td>\n      <td>1</td>\n    </tr>\n    <tr>\n      <th>41</th>\n      <td>2021-05-19</td>\n      <td>18:00</td>\n      <td>Premier League</td>\n      <td>Matchweek 37</td>\n      <td>Wed</td>\n      <td>Away</td>\n      <td>L</td>\n      <td>0.0</td>\n      <td>1.0</td>\n      <td>Newcastle Utd</td>\n      <td>...</td>\n      <td>1.0</td>\n      <td>0.0</td>\n      <td>0.0</td>\n      <td>2021</td>\n      <td>Sheffield United</td>\n      <td>0</td>\n      <td>14</td>\n      <td>18</td>\n      <td>2</td>\n      <td>0</td>\n    </tr>\n    <tr>\n      <th>42</th>\n      <td>2021-05-23</td>\n      <td>16:00</td>\n      <td>Premier League</td>\n      <td>Matchweek 38</td>\n      <td>Sun</td>\n      <td>Home</td>\n      <td>W</td>\n      <td>1.0</td>\n      <td>0.0</td>\n      <td>Burnley</td>\n      <td>...</td>\n      <td>0.0</td>\n      <td>0.0</td>\n      <td>0.0</td>\n      <td>2021</td>\n      <td>Sheffield United</td>\n      <td>1</td>\n      <td>4</td>\n      <td>16</td>\n      <td>6</td>\n      <td>1</td>\n    </tr>\n  </tbody>\n</table>\n<p>1389 rows × 32 columns</p>\n</div>"
          },
          "metadata": {}
        }
      ],
      "execution_count": 19
    },
    {
      "cell_type": "code",
      "source": "from sklearn.ensemble import RandomForestClassifier",
      "metadata": {
        "trusted": true
      },
      "outputs": [],
      "execution_count": 20
    },
    {
      "cell_type": "code",
      "source": "rf = RandomForestClassifier(n_estimators=50, min_samples_split=10, random_state=1)",
      "metadata": {
        "trusted": true
      },
      "outputs": [],
      "execution_count": 21
    },
    {
      "cell_type": "code",
      "source": "train = matches[matches[\"date\"] < '2022-01-01']",
      "metadata": {
        "trusted": true
      },
      "outputs": [],
      "execution_count": 22
    },
    {
      "cell_type": "code",
      "source": "test = matches[matches[\"date\"] > '2022-01-01']",
      "metadata": {
        "trusted": true
      },
      "outputs": [],
      "execution_count": 23
    },
    {
      "cell_type": "code",
      "source": "predictors = [\"venue_code\", \"opp_code\", \"hour\", \"day_code\"]",
      "metadata": {
        "trusted": true
      },
      "outputs": [],
      "execution_count": 24
    },
    {
      "cell_type": "code",
      "source": "rf.fit(train[predictors], train[\"target\"])",
      "metadata": {
        "trusted": true
      },
      "outputs": [
        {
          "execution_count": 25,
          "output_type": "execute_result",
          "data": {
            "text/plain": "RandomForestClassifier(min_samples_split=10, n_estimators=50, random_state=1)",
            "text/html": "<style>#sk-container-id-1 {color: black;}#sk-container-id-1 pre{padding: 0;}#sk-container-id-1 div.sk-toggleable {background-color: white;}#sk-container-id-1 label.sk-toggleable__label {cursor: pointer;display: block;width: 100%;margin-bottom: 0;padding: 0.3em;box-sizing: border-box;text-align: center;}#sk-container-id-1 label.sk-toggleable__label-arrow:before {content: \"▸\";float: left;margin-right: 0.25em;color: #696969;}#sk-container-id-1 label.sk-toggleable__label-arrow:hover:before {color: black;}#sk-container-id-1 div.sk-estimator:hover label.sk-toggleable__label-arrow:before {color: black;}#sk-container-id-1 div.sk-toggleable__content {max-height: 0;max-width: 0;overflow: hidden;text-align: left;background-color: #f0f8ff;}#sk-container-id-1 div.sk-toggleable__content pre {margin: 0.2em;color: black;border-radius: 0.25em;background-color: #f0f8ff;}#sk-container-id-1 input.sk-toggleable__control:checked~div.sk-toggleable__content {max-height: 200px;max-width: 100%;overflow: auto;}#sk-container-id-1 input.sk-toggleable__control:checked~label.sk-toggleable__label-arrow:before {content: \"▾\";}#sk-container-id-1 div.sk-estimator input.sk-toggleable__control:checked~label.sk-toggleable__label {background-color: #d4ebff;}#sk-container-id-1 div.sk-label input.sk-toggleable__control:checked~label.sk-toggleable__label {background-color: #d4ebff;}#sk-container-id-1 input.sk-hidden--visually {border: 0;clip: rect(1px 1px 1px 1px);clip: rect(1px, 1px, 1px, 1px);height: 1px;margin: -1px;overflow: hidden;padding: 0;position: absolute;width: 1px;}#sk-container-id-1 div.sk-estimator {font-family: monospace;background-color: #f0f8ff;border: 1px dotted black;border-radius: 0.25em;box-sizing: border-box;margin-bottom: 0.5em;}#sk-container-id-1 div.sk-estimator:hover {background-color: #d4ebff;}#sk-container-id-1 div.sk-parallel-item::after {content: \"\";width: 100%;border-bottom: 1px solid gray;flex-grow: 1;}#sk-container-id-1 div.sk-label:hover label.sk-toggleable__label {background-color: #d4ebff;}#sk-container-id-1 div.sk-serial::before {content: \"\";position: absolute;border-left: 1px solid gray;box-sizing: border-box;top: 0;bottom: 0;left: 50%;z-index: 0;}#sk-container-id-1 div.sk-serial {display: flex;flex-direction: column;align-items: center;background-color: white;padding-right: 0.2em;padding-left: 0.2em;position: relative;}#sk-container-id-1 div.sk-item {position: relative;z-index: 1;}#sk-container-id-1 div.sk-parallel {display: flex;align-items: stretch;justify-content: center;background-color: white;position: relative;}#sk-container-id-1 div.sk-item::before, #sk-container-id-1 div.sk-parallel-item::before {content: \"\";position: absolute;border-left: 1px solid gray;box-sizing: border-box;top: 0;bottom: 0;left: 50%;z-index: -1;}#sk-container-id-1 div.sk-parallel-item {display: flex;flex-direction: column;z-index: 1;position: relative;background-color: white;}#sk-container-id-1 div.sk-parallel-item:first-child::after {align-self: flex-end;width: 50%;}#sk-container-id-1 div.sk-parallel-item:last-child::after {align-self: flex-start;width: 50%;}#sk-container-id-1 div.sk-parallel-item:only-child::after {width: 0;}#sk-container-id-1 div.sk-dashed-wrapped {border: 1px dashed gray;margin: 0 0.4em 0.5em 0.4em;box-sizing: border-box;padding-bottom: 0.4em;background-color: white;}#sk-container-id-1 div.sk-label label {font-family: monospace;font-weight: bold;display: inline-block;line-height: 1.2em;}#sk-container-id-1 div.sk-label-container {text-align: center;}#sk-container-id-1 div.sk-container {/* jupyter's `normalize.less` sets `[hidden] { display: none; }` but bootstrap.min.css set `[hidden] { display: none !important; }` so we also need the `!important` here to be able to override the default hidden behavior on the sphinx rendered scikit-learn.org. See: https://github.com/scikit-learn/scikit-learn/issues/21755 */display: inline-block !important;position: relative;}#sk-container-id-1 div.sk-text-repr-fallback {display: none;}</style><div id=\"sk-container-id-1\" class=\"sk-top-container\"><div class=\"sk-text-repr-fallback\"><pre>RandomForestClassifier(min_samples_split=10, n_estimators=50, random_state=1)</pre><b>In a Jupyter environment, please rerun this cell to show the HTML representation or trust the notebook. <br />On GitHub, the HTML representation is unable to render, please try loading this page with nbviewer.org.</b></div><div class=\"sk-container\" hidden><div class=\"sk-item\"><div class=\"sk-estimator sk-toggleable\"><input class=\"sk-toggleable__control sk-hidden--visually\" id=\"sk-estimator-id-1\" type=\"checkbox\" checked><label for=\"sk-estimator-id-1\" class=\"sk-toggleable__label sk-toggleable__label-arrow\">RandomForestClassifier</label><div class=\"sk-toggleable__content\"><pre>RandomForestClassifier(min_samples_split=10, n_estimators=50, random_state=1)</pre></div></div></div></div></div>"
          },
          "metadata": {}
        }
      ],
      "execution_count": 25
    },
    {
      "cell_type": "code",
      "source": "preds = rf.predict(test[predictors])",
      "metadata": {
        "trusted": true
      },
      "outputs": [],
      "execution_count": 26
    },
    {
      "cell_type": "code",
      "source": "from sklearn.metrics import accuracy_score",
      "metadata": {
        "trusted": true
      },
      "outputs": [],
      "execution_count": 27
    },
    {
      "cell_type": "code",
      "source": "acc = accuracy_score(test[\"target\"], preds)",
      "metadata": {
        "trusted": true
      },
      "outputs": [],
      "execution_count": 30
    },
    {
      "cell_type": "code",
      "source": "acc",
      "metadata": {
        "trusted": true
      },
      "outputs": [
        {
          "execution_count": 31,
          "output_type": "execute_result",
          "data": {
            "text/plain": "0.6123188405797102"
          },
          "metadata": {}
        }
      ],
      "execution_count": 31
    },
    {
      "cell_type": "code",
      "source": "combined = pd.DataFrame(dict(actual=test[\"target\"], predicted=preds))",
      "metadata": {
        "trusted": true
      },
      "outputs": [],
      "execution_count": 32
    },
    {
      "cell_type": "code",
      "source": "pd.crosstab(index=combined[\"actual\"], columns=combined[\"predicted\"])",
      "metadata": {
        "trusted": true
      },
      "outputs": [
        {
          "execution_count": 33,
          "output_type": "execute_result",
          "data": {
            "text/plain": "predicted    0   1\nactual            \n0          141  31\n1           76  28",
            "text/html": "<div>\n<style scoped>\n    .dataframe tbody tr th:only-of-type {\n        vertical-align: middle;\n    }\n\n    .dataframe tbody tr th {\n        vertical-align: top;\n    }\n\n    .dataframe thead th {\n        text-align: right;\n    }\n</style>\n<table border=\"1\" class=\"dataframe\">\n  <thead>\n    <tr style=\"text-align: right;\">\n      <th>predicted</th>\n      <th>0</th>\n      <th>1</th>\n    </tr>\n    <tr>\n      <th>actual</th>\n      <th></th>\n      <th></th>\n    </tr>\n  </thead>\n  <tbody>\n    <tr>\n      <th>0</th>\n      <td>141</td>\n      <td>31</td>\n    </tr>\n    <tr>\n      <th>1</th>\n      <td>76</td>\n      <td>28</td>\n    </tr>\n  </tbody>\n</table>\n</div>"
          },
          "metadata": {}
        }
      ],
      "execution_count": 33
    },
    {
      "cell_type": "code",
      "source": "from sklearn.metrics import precision_score",
      "metadata": {
        "trusted": true
      },
      "outputs": [],
      "execution_count": 34
    },
    {
      "cell_type": "code",
      "source": "precision_score(test[\"target\"], preds)",
      "metadata": {
        "trusted": true
      },
      "outputs": [
        {
          "execution_count": 35,
          "output_type": "execute_result",
          "data": {
            "text/plain": "0.4745762711864407"
          },
          "metadata": {}
        }
      ],
      "execution_count": 35
    },
    {
      "cell_type": "code",
      "source": "grouped_matches = matches.groupby(\"team\")",
      "metadata": {
        "trusted": true
      },
      "outputs": [],
      "execution_count": 36
    },
    {
      "cell_type": "code",
      "source": "group = grouped_matches.get_group(\"Manchester City\")",
      "metadata": {
        "trusted": true
      },
      "outputs": [],
      "execution_count": 47
    },
    {
      "cell_type": "code",
      "source": "group",
      "metadata": {
        "trusted": true
      },
      "outputs": [
        {
          "execution_count": 48,
          "output_type": "execute_result",
          "data": {
            "text/plain": "         date   time            comp         round  day venue result   gf  \\\n1  2021-08-15  16:30  Premier League   Matchweek 1  Sun  Away      L  0.0   \n2  2021-08-21  15:00  Premier League   Matchweek 2  Sat  Home      W  5.0   \n3  2021-08-28  12:30  Premier League   Matchweek 3  Sat  Home      W  5.0   \n4  2021-09-11  15:00  Premier League   Matchweek 4  Sat  Away      W  1.0   \n6  2021-09-18  15:00  Premier League   Matchweek 5  Sat  Home      D  0.0   \n..        ...    ...             ...           ...  ...   ...    ...  ...   \n54 2021-05-01  12:30  Premier League  Matchweek 34  Sat  Away      W  2.0   \n56 2021-05-08  17:30  Premier League  Matchweek 35  Sat  Home      L  1.0   \n57 2021-05-14  20:00  Premier League  Matchweek 36  Fri  Away      W  4.0   \n58 2021-05-18  19:00  Premier League  Matchweek 37  Tue  Away      L  2.0   \n59 2021-05-23  16:00  Premier League  Matchweek 38  Sun  Home      W  5.0   \n\n     ga        opponent  ...   fk   pk  pkatt  season             team  \\\n1   1.0       Tottenham  ...  1.0  0.0    0.0    2022  Manchester City   \n2   0.0    Norwich City  ...  1.0  0.0    0.0    2022  Manchester City   \n3   0.0         Arsenal  ...  0.0  0.0    0.0    2022  Manchester City   \n4   0.0  Leicester City  ...  0.0  0.0    0.0    2022  Manchester City   \n6   0.0     Southampton  ...  1.0  0.0    0.0    2022  Manchester City   \n..  ...             ...  ...  ...  ...    ...     ...              ...   \n54  0.0  Crystal Palace  ...  1.0  0.0    0.0    2021  Manchester City   \n56  2.0         Chelsea  ...  0.0  0.0    1.0    2021  Manchester City   \n57  3.0   Newcastle Utd  ...  1.0  0.0    0.0    2021  Manchester City   \n58  3.0        Brighton  ...  1.0  0.0    0.0    2021  Manchester City   \n59  0.0         Everton  ...  0.0  0.0    0.0    2021  Manchester City   \n\n   venue_code opp_code hour  day_code  target  \n1           0       18   16         6       0  \n2           1       15   15         5       1  \n3           1        0   12         5       1  \n4           0       10   15         5       1  \n6           1       17   15         5       0  \n..        ...      ...  ...       ...     ...  \n54          0        6   12         5       1  \n56          1        5   17         5       0  \n57          0       14   20         4       1  \n58          0        3   19         1       0  \n59          1        7   16         6       1  \n\n[71 rows x 32 columns]",
            "text/html": "<div>\n<style scoped>\n    .dataframe tbody tr th:only-of-type {\n        vertical-align: middle;\n    }\n\n    .dataframe tbody tr th {\n        vertical-align: top;\n    }\n\n    .dataframe thead th {\n        text-align: right;\n    }\n</style>\n<table border=\"1\" class=\"dataframe\">\n  <thead>\n    <tr style=\"text-align: right;\">\n      <th></th>\n      <th>date</th>\n      <th>time</th>\n      <th>comp</th>\n      <th>round</th>\n      <th>day</th>\n      <th>venue</th>\n      <th>result</th>\n      <th>gf</th>\n      <th>ga</th>\n      <th>opponent</th>\n      <th>...</th>\n      <th>fk</th>\n      <th>pk</th>\n      <th>pkatt</th>\n      <th>season</th>\n      <th>team</th>\n      <th>venue_code</th>\n      <th>opp_code</th>\n      <th>hour</th>\n      <th>day_code</th>\n      <th>target</th>\n    </tr>\n  </thead>\n  <tbody>\n    <tr>\n      <th>1</th>\n      <td>2021-08-15</td>\n      <td>16:30</td>\n      <td>Premier League</td>\n      <td>Matchweek 1</td>\n      <td>Sun</td>\n      <td>Away</td>\n      <td>L</td>\n      <td>0.0</td>\n      <td>1.0</td>\n      <td>Tottenham</td>\n      <td>...</td>\n      <td>1.0</td>\n      <td>0.0</td>\n      <td>0.0</td>\n      <td>2022</td>\n      <td>Manchester City</td>\n      <td>0</td>\n      <td>18</td>\n      <td>16</td>\n      <td>6</td>\n      <td>0</td>\n    </tr>\n    <tr>\n      <th>2</th>\n      <td>2021-08-21</td>\n      <td>15:00</td>\n      <td>Premier League</td>\n      <td>Matchweek 2</td>\n      <td>Sat</td>\n      <td>Home</td>\n      <td>W</td>\n      <td>5.0</td>\n      <td>0.0</td>\n      <td>Norwich City</td>\n      <td>...</td>\n      <td>1.0</td>\n      <td>0.0</td>\n      <td>0.0</td>\n      <td>2022</td>\n      <td>Manchester City</td>\n      <td>1</td>\n      <td>15</td>\n      <td>15</td>\n      <td>5</td>\n      <td>1</td>\n    </tr>\n    <tr>\n      <th>3</th>\n      <td>2021-08-28</td>\n      <td>12:30</td>\n      <td>Premier League</td>\n      <td>Matchweek 3</td>\n      <td>Sat</td>\n      <td>Home</td>\n      <td>W</td>\n      <td>5.0</td>\n      <td>0.0</td>\n      <td>Arsenal</td>\n      <td>...</td>\n      <td>0.0</td>\n      <td>0.0</td>\n      <td>0.0</td>\n      <td>2022</td>\n      <td>Manchester City</td>\n      <td>1</td>\n      <td>0</td>\n      <td>12</td>\n      <td>5</td>\n      <td>1</td>\n    </tr>\n    <tr>\n      <th>4</th>\n      <td>2021-09-11</td>\n      <td>15:00</td>\n      <td>Premier League</td>\n      <td>Matchweek 4</td>\n      <td>Sat</td>\n      <td>Away</td>\n      <td>W</td>\n      <td>1.0</td>\n      <td>0.0</td>\n      <td>Leicester City</td>\n      <td>...</td>\n      <td>0.0</td>\n      <td>0.0</td>\n      <td>0.0</td>\n      <td>2022</td>\n      <td>Manchester City</td>\n      <td>0</td>\n      <td>10</td>\n      <td>15</td>\n      <td>5</td>\n      <td>1</td>\n    </tr>\n    <tr>\n      <th>6</th>\n      <td>2021-09-18</td>\n      <td>15:00</td>\n      <td>Premier League</td>\n      <td>Matchweek 5</td>\n      <td>Sat</td>\n      <td>Home</td>\n      <td>D</td>\n      <td>0.0</td>\n      <td>0.0</td>\n      <td>Southampton</td>\n      <td>...</td>\n      <td>1.0</td>\n      <td>0.0</td>\n      <td>0.0</td>\n      <td>2022</td>\n      <td>Manchester City</td>\n      <td>1</td>\n      <td>17</td>\n      <td>15</td>\n      <td>5</td>\n      <td>0</td>\n    </tr>\n    <tr>\n      <th>...</th>\n      <td>...</td>\n      <td>...</td>\n      <td>...</td>\n      <td>...</td>\n      <td>...</td>\n      <td>...</td>\n      <td>...</td>\n      <td>...</td>\n      <td>...</td>\n      <td>...</td>\n      <td>...</td>\n      <td>...</td>\n      <td>...</td>\n      <td>...</td>\n      <td>...</td>\n      <td>...</td>\n      <td>...</td>\n      <td>...</td>\n      <td>...</td>\n      <td>...</td>\n      <td>...</td>\n    </tr>\n    <tr>\n      <th>54</th>\n      <td>2021-05-01</td>\n      <td>12:30</td>\n      <td>Premier League</td>\n      <td>Matchweek 34</td>\n      <td>Sat</td>\n      <td>Away</td>\n      <td>W</td>\n      <td>2.0</td>\n      <td>0.0</td>\n      <td>Crystal Palace</td>\n      <td>...</td>\n      <td>1.0</td>\n      <td>0.0</td>\n      <td>0.0</td>\n      <td>2021</td>\n      <td>Manchester City</td>\n      <td>0</td>\n      <td>6</td>\n      <td>12</td>\n      <td>5</td>\n      <td>1</td>\n    </tr>\n    <tr>\n      <th>56</th>\n      <td>2021-05-08</td>\n      <td>17:30</td>\n      <td>Premier League</td>\n      <td>Matchweek 35</td>\n      <td>Sat</td>\n      <td>Home</td>\n      <td>L</td>\n      <td>1.0</td>\n      <td>2.0</td>\n      <td>Chelsea</td>\n      <td>...</td>\n      <td>0.0</td>\n      <td>0.0</td>\n      <td>1.0</td>\n      <td>2021</td>\n      <td>Manchester City</td>\n      <td>1</td>\n      <td>5</td>\n      <td>17</td>\n      <td>5</td>\n      <td>0</td>\n    </tr>\n    <tr>\n      <th>57</th>\n      <td>2021-05-14</td>\n      <td>20:00</td>\n      <td>Premier League</td>\n      <td>Matchweek 36</td>\n      <td>Fri</td>\n      <td>Away</td>\n      <td>W</td>\n      <td>4.0</td>\n      <td>3.0</td>\n      <td>Newcastle Utd</td>\n      <td>...</td>\n      <td>1.0</td>\n      <td>0.0</td>\n      <td>0.0</td>\n      <td>2021</td>\n      <td>Manchester City</td>\n      <td>0</td>\n      <td>14</td>\n      <td>20</td>\n      <td>4</td>\n      <td>1</td>\n    </tr>\n    <tr>\n      <th>58</th>\n      <td>2021-05-18</td>\n      <td>19:00</td>\n      <td>Premier League</td>\n      <td>Matchweek 37</td>\n      <td>Tue</td>\n      <td>Away</td>\n      <td>L</td>\n      <td>2.0</td>\n      <td>3.0</td>\n      <td>Brighton</td>\n      <td>...</td>\n      <td>1.0</td>\n      <td>0.0</td>\n      <td>0.0</td>\n      <td>2021</td>\n      <td>Manchester City</td>\n      <td>0</td>\n      <td>3</td>\n      <td>19</td>\n      <td>1</td>\n      <td>0</td>\n    </tr>\n    <tr>\n      <th>59</th>\n      <td>2021-05-23</td>\n      <td>16:00</td>\n      <td>Premier League</td>\n      <td>Matchweek 38</td>\n      <td>Sun</td>\n      <td>Home</td>\n      <td>W</td>\n      <td>5.0</td>\n      <td>0.0</td>\n      <td>Everton</td>\n      <td>...</td>\n      <td>0.0</td>\n      <td>0.0</td>\n      <td>0.0</td>\n      <td>2021</td>\n      <td>Manchester City</td>\n      <td>1</td>\n      <td>7</td>\n      <td>16</td>\n      <td>6</td>\n      <td>1</td>\n    </tr>\n  </tbody>\n</table>\n<p>71 rows × 32 columns</p>\n</div>"
          },
          "metadata": {}
        }
      ],
      "execution_count": 48
    },
    {
      "cell_type": "code",
      "source": "def rolling_averages(group, cols, new_cols):\n    group = group.sort_values(\"date\")\n    rolling_stats = group[cols].rolling(3, closed='left').mean()\n    group[new_cols] = rolling_stats\n    group = group.dropna(subset=new_cols)\n    return group",
      "metadata": {
        "trusted": true
      },
      "outputs": [],
      "execution_count": 38
    },
    {
      "cell_type": "code",
      "source": "cols = [\"gf\", \"ga\", \"sh\", \"sot\", \"dist\", \"fk\", \"pk\", \"pkatt\"]\nnew_cols = [f\"{c}_rolling\" for c in cols]",
      "metadata": {
        "trusted": true
      },
      "outputs": [],
      "execution_count": 49
    },
    {
      "cell_type": "code",
      "source": "new_cols",
      "metadata": {
        "trusted": true
      },
      "outputs": [
        {
          "execution_count": 50,
          "output_type": "execute_result",
          "data": {
            "text/plain": "['gf_rolling',\n 'ga_rolling',\n 'sh_rolling',\n 'sot_rolling',\n 'dist_rolling',\n 'fk_rolling',\n 'pk_rolling',\n 'pkatt_rolling']"
          },
          "metadata": {}
        }
      ],
      "execution_count": 50
    },
    {
      "cell_type": "code",
      "source": "rolling_averages(group, cols, new_cols)",
      "metadata": {
        "trusted": true
      },
      "outputs": [
        {
          "execution_count": 51,
          "output_type": "execute_result",
          "data": {
            "text/plain": "         date   time            comp         round  day venue result   gf  \\\n5  2020-10-17  17:30  Premier League   Matchweek 5  Sat  Home      W  1.0   \n7  2020-10-24  12:30  Premier League   Matchweek 6  Sat  Away      D  1.0   \n9  2020-10-31  12:30  Premier League   Matchweek 7  Sat  Away      W  1.0   \n11 2020-11-08  16:30  Premier League   Matchweek 8  Sun  Home      D  1.0   \n12 2020-11-21  17:30  Premier League   Matchweek 9  Sat  Away      L  0.0   \n..        ...    ...             ...           ...  ...   ...    ...  ...   \n42 2022-03-14  20:00  Premier League  Matchweek 29  Mon  Away      D  0.0   \n44 2022-04-02  15:00  Premier League  Matchweek 31  Sat  Away      W  2.0   \n46 2022-04-10  16:30  Premier League  Matchweek 32  Sun  Home      D  2.0   \n49 2022-04-20  20:00  Premier League  Matchweek 30  Wed  Home      W  3.0   \n50 2022-04-23  15:00  Premier League  Matchweek 34  Sat  Home      W  5.0   \n\n     ga        opponent  ...  day_code  target  gf_rolling  ga_rolling  \\\n5   0.0         Arsenal  ...         5       1    2.000000    2.333333   \n7   1.0        West Ham  ...         5       0    1.333333    2.000000   \n9   0.0   Sheffield Utd  ...         5       1    1.000000    0.666667   \n11  1.0       Liverpool  ...         6       0    1.000000    0.333333   \n12  2.0       Tottenham  ...         5       0    1.000000    0.666667   \n..  ...             ...  ...       ...     ...         ...         ...   \n42  0.0  Crystal Palace  ...         0       0    2.333333    1.333333   \n44  0.0         Burnley  ...         5       1    1.666667    0.333333   \n46  2.0       Liverpool  ...         6       0    2.000000    0.333333   \n49  0.0        Brighton  ...         2       1    1.333333    0.666667   \n50  1.0         Watford  ...         5       1    2.333333    0.666667   \n\n   sh_rolling sot_rolling dist_rolling fk_rolling  pk_rolling  pkatt_rolling  \n5   17.333333    4.666667    18.900000   1.333333    0.333333       0.333333  \n7   17.333333    3.666667    17.733333   0.666667    0.000000       0.000000  \n9   16.666667    4.333333    18.233333   0.666667    0.000000       0.000000  \n11  14.333333    6.666667    18.466667   1.000000    0.000000       0.000000  \n12  12.000000    5.666667    19.366667   1.000000    0.000000       0.333333  \n..        ...         ...          ...        ...         ...            ...  \n42  19.000000    7.000000    15.366667   0.333333    0.333333       0.333333  \n44  18.333333    7.333333    16.000000   0.333333    0.000000       0.000000  \n46  20.000000    6.666667    16.133333   0.333333    0.000000       0.000000  \n49  15.666667    4.666667    16.700000   0.333333    0.000000       0.000000  \n50  15.333333    5.000000    17.200000   0.333333    0.000000       0.000000  \n\n[68 rows x 40 columns]",
            "text/html": "<div>\n<style scoped>\n    .dataframe tbody tr th:only-of-type {\n        vertical-align: middle;\n    }\n\n    .dataframe tbody tr th {\n        vertical-align: top;\n    }\n\n    .dataframe thead th {\n        text-align: right;\n    }\n</style>\n<table border=\"1\" class=\"dataframe\">\n  <thead>\n    <tr style=\"text-align: right;\">\n      <th></th>\n      <th>date</th>\n      <th>time</th>\n      <th>comp</th>\n      <th>round</th>\n      <th>day</th>\n      <th>venue</th>\n      <th>result</th>\n      <th>gf</th>\n      <th>ga</th>\n      <th>opponent</th>\n      <th>...</th>\n      <th>day_code</th>\n      <th>target</th>\n      <th>gf_rolling</th>\n      <th>ga_rolling</th>\n      <th>sh_rolling</th>\n      <th>sot_rolling</th>\n      <th>dist_rolling</th>\n      <th>fk_rolling</th>\n      <th>pk_rolling</th>\n      <th>pkatt_rolling</th>\n    </tr>\n  </thead>\n  <tbody>\n    <tr>\n      <th>5</th>\n      <td>2020-10-17</td>\n      <td>17:30</td>\n      <td>Premier League</td>\n      <td>Matchweek 5</td>\n      <td>Sat</td>\n      <td>Home</td>\n      <td>W</td>\n      <td>1.0</td>\n      <td>0.0</td>\n      <td>Arsenal</td>\n      <td>...</td>\n      <td>5</td>\n      <td>1</td>\n      <td>2.000000</td>\n      <td>2.333333</td>\n      <td>17.333333</td>\n      <td>4.666667</td>\n      <td>18.900000</td>\n      <td>1.333333</td>\n      <td>0.333333</td>\n      <td>0.333333</td>\n    </tr>\n    <tr>\n      <th>7</th>\n      <td>2020-10-24</td>\n      <td>12:30</td>\n      <td>Premier League</td>\n      <td>Matchweek 6</td>\n      <td>Sat</td>\n      <td>Away</td>\n      <td>D</td>\n      <td>1.0</td>\n      <td>1.0</td>\n      <td>West Ham</td>\n      <td>...</td>\n      <td>5</td>\n      <td>0</td>\n      <td>1.333333</td>\n      <td>2.000000</td>\n      <td>17.333333</td>\n      <td>3.666667</td>\n      <td>17.733333</td>\n      <td>0.666667</td>\n      <td>0.000000</td>\n      <td>0.000000</td>\n    </tr>\n    <tr>\n      <th>9</th>\n      <td>2020-10-31</td>\n      <td>12:30</td>\n      <td>Premier League</td>\n      <td>Matchweek 7</td>\n      <td>Sat</td>\n      <td>Away</td>\n      <td>W</td>\n      <td>1.0</td>\n      <td>0.0</td>\n      <td>Sheffield Utd</td>\n      <td>...</td>\n      <td>5</td>\n      <td>1</td>\n      <td>1.000000</td>\n      <td>0.666667</td>\n      <td>16.666667</td>\n      <td>4.333333</td>\n      <td>18.233333</td>\n      <td>0.666667</td>\n      <td>0.000000</td>\n      <td>0.000000</td>\n    </tr>\n    <tr>\n      <th>11</th>\n      <td>2020-11-08</td>\n      <td>16:30</td>\n      <td>Premier League</td>\n      <td>Matchweek 8</td>\n      <td>Sun</td>\n      <td>Home</td>\n      <td>D</td>\n      <td>1.0</td>\n      <td>1.0</td>\n      <td>Liverpool</td>\n      <td>...</td>\n      <td>6</td>\n      <td>0</td>\n      <td>1.000000</td>\n      <td>0.333333</td>\n      <td>14.333333</td>\n      <td>6.666667</td>\n      <td>18.466667</td>\n      <td>1.000000</td>\n      <td>0.000000</td>\n      <td>0.000000</td>\n    </tr>\n    <tr>\n      <th>12</th>\n      <td>2020-11-21</td>\n      <td>17:30</td>\n      <td>Premier League</td>\n      <td>Matchweek 9</td>\n      <td>Sat</td>\n      <td>Away</td>\n      <td>L</td>\n      <td>0.0</td>\n      <td>2.0</td>\n      <td>Tottenham</td>\n      <td>...</td>\n      <td>5</td>\n      <td>0</td>\n      <td>1.000000</td>\n      <td>0.666667</td>\n      <td>12.000000</td>\n      <td>5.666667</td>\n      <td>19.366667</td>\n      <td>1.000000</td>\n      <td>0.000000</td>\n      <td>0.333333</td>\n    </tr>\n    <tr>\n      <th>...</th>\n      <td>...</td>\n      <td>...</td>\n      <td>...</td>\n      <td>...</td>\n      <td>...</td>\n      <td>...</td>\n      <td>...</td>\n      <td>...</td>\n      <td>...</td>\n      <td>...</td>\n      <td>...</td>\n      <td>...</td>\n      <td>...</td>\n      <td>...</td>\n      <td>...</td>\n      <td>...</td>\n      <td>...</td>\n      <td>...</td>\n      <td>...</td>\n      <td>...</td>\n      <td>...</td>\n    </tr>\n    <tr>\n      <th>42</th>\n      <td>2022-03-14</td>\n      <td>20:00</td>\n      <td>Premier League</td>\n      <td>Matchweek 29</td>\n      <td>Mon</td>\n      <td>Away</td>\n      <td>D</td>\n      <td>0.0</td>\n      <td>0.0</td>\n      <td>Crystal Palace</td>\n      <td>...</td>\n      <td>0</td>\n      <td>0</td>\n      <td>2.333333</td>\n      <td>1.333333</td>\n      <td>19.000000</td>\n      <td>7.000000</td>\n      <td>15.366667</td>\n      <td>0.333333</td>\n      <td>0.333333</td>\n      <td>0.333333</td>\n    </tr>\n    <tr>\n      <th>44</th>\n      <td>2022-04-02</td>\n      <td>15:00</td>\n      <td>Premier League</td>\n      <td>Matchweek 31</td>\n      <td>Sat</td>\n      <td>Away</td>\n      <td>W</td>\n      <td>2.0</td>\n      <td>0.0</td>\n      <td>Burnley</td>\n      <td>...</td>\n      <td>5</td>\n      <td>1</td>\n      <td>1.666667</td>\n      <td>0.333333</td>\n      <td>18.333333</td>\n      <td>7.333333</td>\n      <td>16.000000</td>\n      <td>0.333333</td>\n      <td>0.000000</td>\n      <td>0.000000</td>\n    </tr>\n    <tr>\n      <th>46</th>\n      <td>2022-04-10</td>\n      <td>16:30</td>\n      <td>Premier League</td>\n      <td>Matchweek 32</td>\n      <td>Sun</td>\n      <td>Home</td>\n      <td>D</td>\n      <td>2.0</td>\n      <td>2.0</td>\n      <td>Liverpool</td>\n      <td>...</td>\n      <td>6</td>\n      <td>0</td>\n      <td>2.000000</td>\n      <td>0.333333</td>\n      <td>20.000000</td>\n      <td>6.666667</td>\n      <td>16.133333</td>\n      <td>0.333333</td>\n      <td>0.000000</td>\n      <td>0.000000</td>\n    </tr>\n    <tr>\n      <th>49</th>\n      <td>2022-04-20</td>\n      <td>20:00</td>\n      <td>Premier League</td>\n      <td>Matchweek 30</td>\n      <td>Wed</td>\n      <td>Home</td>\n      <td>W</td>\n      <td>3.0</td>\n      <td>0.0</td>\n      <td>Brighton</td>\n      <td>...</td>\n      <td>2</td>\n      <td>1</td>\n      <td>1.333333</td>\n      <td>0.666667</td>\n      <td>15.666667</td>\n      <td>4.666667</td>\n      <td>16.700000</td>\n      <td>0.333333</td>\n      <td>0.000000</td>\n      <td>0.000000</td>\n    </tr>\n    <tr>\n      <th>50</th>\n      <td>2022-04-23</td>\n      <td>15:00</td>\n      <td>Premier League</td>\n      <td>Matchweek 34</td>\n      <td>Sat</td>\n      <td>Home</td>\n      <td>W</td>\n      <td>5.0</td>\n      <td>1.0</td>\n      <td>Watford</td>\n      <td>...</td>\n      <td>5</td>\n      <td>1</td>\n      <td>2.333333</td>\n      <td>0.666667</td>\n      <td>15.333333</td>\n      <td>5.000000</td>\n      <td>17.200000</td>\n      <td>0.333333</td>\n      <td>0.000000</td>\n      <td>0.000000</td>\n    </tr>\n  </tbody>\n</table>\n<p>68 rows × 40 columns</p>\n</div>"
          },
          "metadata": {}
        }
      ],
      "execution_count": 51
    },
    {
      "cell_type": "code",
      "source": "matches_rolling = matches.groupby(\"team\").apply(lambda x: rolling_averages(x, cols, new_cols))",
      "metadata": {
        "trusted": true
      },
      "outputs": [],
      "execution_count": 52
    },
    {
      "cell_type": "code",
      "source": "matches_rolling",
      "metadata": {
        "trusted": true
      },
      "outputs": [
        {
          "execution_count": 53,
          "output_type": "execute_result",
          "data": {
            "text/plain": "                                 date   time            comp         round  \\\nteam                                                                         \nArsenal                 6  2020-10-04  14:00  Premier League   Matchweek 4   \n                        7  2020-10-17  17:30  Premier League   Matchweek 5   \n                        9  2020-10-25  19:15  Premier League   Matchweek 6   \n                        11 2020-11-01  16:30  Premier League   Matchweek 7   \n                        13 2020-11-08  19:15  Premier League   Matchweek 8   \n...                               ...    ...             ...           ...   \nWolverhampton Wanderers 32 2022-03-13  14:00  Premier League  Matchweek 29   \n                        33 2022-03-18  20:00  Premier League  Matchweek 30   \n                        34 2022-04-02  15:00  Premier League  Matchweek 31   \n                        35 2022-04-08  20:00  Premier League  Matchweek 32   \n                        36 2022-04-24  14:00  Premier League  Matchweek 34   \n\n                            day venue result   gf   ga         opponent  ...  \\\nteam                                                                     ...   \nArsenal                 6   Sun  Home      W  2.0  1.0    Sheffield Utd  ...   \n                        7   Sat  Away      L  0.0  1.0  Manchester City  ...   \n                        9   Sun  Home      L  0.0  1.0   Leicester City  ...   \n                        11  Sun  Away      W  1.0  0.0   Manchester Utd  ...   \n                        13  Sun  Home      L  0.0  3.0      Aston Villa  ...   \n...                         ...   ...    ...  ...  ...              ...  ...   \nWolverhampton Wanderers 32  Sun  Away      W  1.0  0.0          Everton  ...   \n                        33  Fri  Home      L  2.0  3.0     Leeds United  ...   \n                        34  Sat  Home      W  2.0  1.0      Aston Villa  ...   \n                        35  Fri  Away      L  0.0  1.0    Newcastle Utd  ...   \n                        36  Sun  Away      L  0.0  1.0          Burnley  ...   \n\n                            day_code  target  gf_rolling  ga_rolling  \\\nteam                                                                   \nArsenal                 6          6       1    2.000000    1.333333   \n                        7          5       0    1.666667    1.666667   \n                        9          6       0    1.000000    1.666667   \n                        11         6       1    0.666667    1.000000   \n                        13         6       0    0.333333    0.666667   \n...                              ...     ...         ...         ...   \nWolverhampton Wanderers 32         6       1    1.333333    1.000000   \n                        33         4       0    1.666667    0.666667   \n                        34         5       1    2.333333    1.000000   \n                        35         4       0    1.666667    1.333333   \n                        36         6       0    1.333333    1.666667   \n\n                           sh_rolling sot_rolling dist_rolling fk_rolling  \\\nteam                                                                        \nArsenal                 6    7.666667    3.666667    14.733333   0.666667   \n                        7    5.333333    3.666667    15.766667   0.000000   \n                        9    7.000000    3.666667    16.733333   0.666667   \n                        11   9.666667    4.000000    16.033333   1.000000   \n                        13   9.666667    2.666667    18.033333   1.000000   \n...                               ...         ...          ...        ...   \nWolverhampton Wanderers 32  12.333333    3.666667    19.300000   0.000000   \n                        33  12.333333    4.333333    19.600000   0.000000   \n                        34  13.000000    5.333333    19.833333   0.000000   \n                        35  13.000000    5.000000    18.533333   0.000000   \n                        36  10.000000    4.666667    17.633333   0.000000   \n\n                            pk_rolling  pkatt_rolling  \nteam                                                   \nArsenal                 6     0.000000       0.000000  \n                        7     0.000000       0.000000  \n                        9     0.000000       0.000000  \n                        11    0.000000       0.000000  \n                        13    0.333333       0.333333  \n...                                ...            ...  \nWolverhampton Wanderers 32    0.000000       0.000000  \n                        33    0.000000       0.000000  \n                        34    0.000000       0.000000  \n                        35    0.000000       0.000000  \n                        36    0.000000       0.000000  \n\n[1317 rows x 40 columns]",
            "text/html": "<div>\n<style scoped>\n    .dataframe tbody tr th:only-of-type {\n        vertical-align: middle;\n    }\n\n    .dataframe tbody tr th {\n        vertical-align: top;\n    }\n\n    .dataframe thead th {\n        text-align: right;\n    }\n</style>\n<table border=\"1\" class=\"dataframe\">\n  <thead>\n    <tr style=\"text-align: right;\">\n      <th></th>\n      <th></th>\n      <th>date</th>\n      <th>time</th>\n      <th>comp</th>\n      <th>round</th>\n      <th>day</th>\n      <th>venue</th>\n      <th>result</th>\n      <th>gf</th>\n      <th>ga</th>\n      <th>opponent</th>\n      <th>...</th>\n      <th>day_code</th>\n      <th>target</th>\n      <th>gf_rolling</th>\n      <th>ga_rolling</th>\n      <th>sh_rolling</th>\n      <th>sot_rolling</th>\n      <th>dist_rolling</th>\n      <th>fk_rolling</th>\n      <th>pk_rolling</th>\n      <th>pkatt_rolling</th>\n    </tr>\n    <tr>\n      <th>team</th>\n      <th></th>\n      <th></th>\n      <th></th>\n      <th></th>\n      <th></th>\n      <th></th>\n      <th></th>\n      <th></th>\n      <th></th>\n      <th></th>\n      <th></th>\n      <th></th>\n      <th></th>\n      <th></th>\n      <th></th>\n      <th></th>\n      <th></th>\n      <th></th>\n      <th></th>\n      <th></th>\n      <th></th>\n      <th></th>\n    </tr>\n  </thead>\n  <tbody>\n    <tr>\n      <th rowspan=\"5\" valign=\"top\">Arsenal</th>\n      <th>6</th>\n      <td>2020-10-04</td>\n      <td>14:00</td>\n      <td>Premier League</td>\n      <td>Matchweek 4</td>\n      <td>Sun</td>\n      <td>Home</td>\n      <td>W</td>\n      <td>2.0</td>\n      <td>1.0</td>\n      <td>Sheffield Utd</td>\n      <td>...</td>\n      <td>6</td>\n      <td>1</td>\n      <td>2.000000</td>\n      <td>1.333333</td>\n      <td>7.666667</td>\n      <td>3.666667</td>\n      <td>14.733333</td>\n      <td>0.666667</td>\n      <td>0.000000</td>\n      <td>0.000000</td>\n    </tr>\n    <tr>\n      <th>7</th>\n      <td>2020-10-17</td>\n      <td>17:30</td>\n      <td>Premier League</td>\n      <td>Matchweek 5</td>\n      <td>Sat</td>\n      <td>Away</td>\n      <td>L</td>\n      <td>0.0</td>\n      <td>1.0</td>\n      <td>Manchester City</td>\n      <td>...</td>\n      <td>5</td>\n      <td>0</td>\n      <td>1.666667</td>\n      <td>1.666667</td>\n      <td>5.333333</td>\n      <td>3.666667</td>\n      <td>15.766667</td>\n      <td>0.000000</td>\n      <td>0.000000</td>\n      <td>0.000000</td>\n    </tr>\n    <tr>\n      <th>9</th>\n      <td>2020-10-25</td>\n      <td>19:15</td>\n      <td>Premier League</td>\n      <td>Matchweek 6</td>\n      <td>Sun</td>\n      <td>Home</td>\n      <td>L</td>\n      <td>0.0</td>\n      <td>1.0</td>\n      <td>Leicester City</td>\n      <td>...</td>\n      <td>6</td>\n      <td>0</td>\n      <td>1.000000</td>\n      <td>1.666667</td>\n      <td>7.000000</td>\n      <td>3.666667</td>\n      <td>16.733333</td>\n      <td>0.666667</td>\n      <td>0.000000</td>\n      <td>0.000000</td>\n    </tr>\n    <tr>\n      <th>11</th>\n      <td>2020-11-01</td>\n      <td>16:30</td>\n      <td>Premier League</td>\n      <td>Matchweek 7</td>\n      <td>Sun</td>\n      <td>Away</td>\n      <td>W</td>\n      <td>1.0</td>\n      <td>0.0</td>\n      <td>Manchester Utd</td>\n      <td>...</td>\n      <td>6</td>\n      <td>1</td>\n      <td>0.666667</td>\n      <td>1.000000</td>\n      <td>9.666667</td>\n      <td>4.000000</td>\n      <td>16.033333</td>\n      <td>1.000000</td>\n      <td>0.000000</td>\n      <td>0.000000</td>\n    </tr>\n    <tr>\n      <th>13</th>\n      <td>2020-11-08</td>\n      <td>19:15</td>\n      <td>Premier League</td>\n      <td>Matchweek 8</td>\n      <td>Sun</td>\n      <td>Home</td>\n      <td>L</td>\n      <td>0.0</td>\n      <td>3.0</td>\n      <td>Aston Villa</td>\n      <td>...</td>\n      <td>6</td>\n      <td>0</td>\n      <td>0.333333</td>\n      <td>0.666667</td>\n      <td>9.666667</td>\n      <td>2.666667</td>\n      <td>18.033333</td>\n      <td>1.000000</td>\n      <td>0.333333</td>\n      <td>0.333333</td>\n    </tr>\n    <tr>\n      <th>...</th>\n      <th>...</th>\n      <td>...</td>\n      <td>...</td>\n      <td>...</td>\n      <td>...</td>\n      <td>...</td>\n      <td>...</td>\n      <td>...</td>\n      <td>...</td>\n      <td>...</td>\n      <td>...</td>\n      <td>...</td>\n      <td>...</td>\n      <td>...</td>\n      <td>...</td>\n      <td>...</td>\n      <td>...</td>\n      <td>...</td>\n      <td>...</td>\n      <td>...</td>\n      <td>...</td>\n      <td>...</td>\n    </tr>\n    <tr>\n      <th rowspan=\"5\" valign=\"top\">Wolverhampton Wanderers</th>\n      <th>32</th>\n      <td>2022-03-13</td>\n      <td>14:00</td>\n      <td>Premier League</td>\n      <td>Matchweek 29</td>\n      <td>Sun</td>\n      <td>Away</td>\n      <td>W</td>\n      <td>1.0</td>\n      <td>0.0</td>\n      <td>Everton</td>\n      <td>...</td>\n      <td>6</td>\n      <td>1</td>\n      <td>1.333333</td>\n      <td>1.000000</td>\n      <td>12.333333</td>\n      <td>3.666667</td>\n      <td>19.300000</td>\n      <td>0.000000</td>\n      <td>0.000000</td>\n      <td>0.000000</td>\n    </tr>\n    <tr>\n      <th>33</th>\n      <td>2022-03-18</td>\n      <td>20:00</td>\n      <td>Premier League</td>\n      <td>Matchweek 30</td>\n      <td>Fri</td>\n      <td>Home</td>\n      <td>L</td>\n      <td>2.0</td>\n      <td>3.0</td>\n      <td>Leeds United</td>\n      <td>...</td>\n      <td>4</td>\n      <td>0</td>\n      <td>1.666667</td>\n      <td>0.666667</td>\n      <td>12.333333</td>\n      <td>4.333333</td>\n      <td>19.600000</td>\n      <td>0.000000</td>\n      <td>0.000000</td>\n      <td>0.000000</td>\n    </tr>\n    <tr>\n      <th>34</th>\n      <td>2022-04-02</td>\n      <td>15:00</td>\n      <td>Premier League</td>\n      <td>Matchweek 31</td>\n      <td>Sat</td>\n      <td>Home</td>\n      <td>W</td>\n      <td>2.0</td>\n      <td>1.0</td>\n      <td>Aston Villa</td>\n      <td>...</td>\n      <td>5</td>\n      <td>1</td>\n      <td>2.333333</td>\n      <td>1.000000</td>\n      <td>13.000000</td>\n      <td>5.333333</td>\n      <td>19.833333</td>\n      <td>0.000000</td>\n      <td>0.000000</td>\n      <td>0.000000</td>\n    </tr>\n    <tr>\n      <th>35</th>\n      <td>2022-04-08</td>\n      <td>20:00</td>\n      <td>Premier League</td>\n      <td>Matchweek 32</td>\n      <td>Fri</td>\n      <td>Away</td>\n      <td>L</td>\n      <td>0.0</td>\n      <td>1.0</td>\n      <td>Newcastle Utd</td>\n      <td>...</td>\n      <td>4</td>\n      <td>0</td>\n      <td>1.666667</td>\n      <td>1.333333</td>\n      <td>13.000000</td>\n      <td>5.000000</td>\n      <td>18.533333</td>\n      <td>0.000000</td>\n      <td>0.000000</td>\n      <td>0.000000</td>\n    </tr>\n    <tr>\n      <th>36</th>\n      <td>2022-04-24</td>\n      <td>14:00</td>\n      <td>Premier League</td>\n      <td>Matchweek 34</td>\n      <td>Sun</td>\n      <td>Away</td>\n      <td>L</td>\n      <td>0.0</td>\n      <td>1.0</td>\n      <td>Burnley</td>\n      <td>...</td>\n      <td>6</td>\n      <td>0</td>\n      <td>1.333333</td>\n      <td>1.666667</td>\n      <td>10.000000</td>\n      <td>4.666667</td>\n      <td>17.633333</td>\n      <td>0.000000</td>\n      <td>0.000000</td>\n      <td>0.000000</td>\n    </tr>\n  </tbody>\n</table>\n<p>1317 rows × 40 columns</p>\n</div>"
          },
          "metadata": {}
        }
      ],
      "execution_count": 53
    },
    {
      "cell_type": "code",
      "source": "matches_rolling = matches_rolling.droplevel('team')",
      "metadata": {
        "trusted": true
      },
      "outputs": [],
      "execution_count": 42
    },
    {
      "cell_type": "code",
      "source": "matches_rolling",
      "metadata": {
        "trusted": true
      },
      "outputs": [
        {
          "execution_count": 43,
          "output_type": "execute_result",
          "data": {
            "text/plain": "         date   time            comp         round  day venue result   gf  \\\n6  2020-10-04  14:00  Premier League   Matchweek 4  Sun  Home      W  2.0   \n7  2020-10-17  17:30  Premier League   Matchweek 5  Sat  Away      L  0.0   \n9  2020-10-25  19:15  Premier League   Matchweek 6  Sun  Home      L  0.0   \n11 2020-11-01  16:30  Premier League   Matchweek 7  Sun  Away      W  1.0   \n13 2020-11-08  19:15  Premier League   Matchweek 8  Sun  Home      L  0.0   \n..        ...    ...             ...           ...  ...   ...    ...  ...   \n32 2022-03-13  14:00  Premier League  Matchweek 29  Sun  Away      W  1.0   \n33 2022-03-18  20:00  Premier League  Matchweek 30  Fri  Home      L  2.0   \n34 2022-04-02  15:00  Premier League  Matchweek 31  Sat  Home      W  2.0   \n35 2022-04-08  20:00  Premier League  Matchweek 32  Fri  Away      L  0.0   \n36 2022-04-24  14:00  Premier League  Matchweek 34  Sun  Away      L  0.0   \n\n     ga         opponent  ...  day_code  target  gf_rolling  ga_rolling  \\\n6   1.0    Sheffield Utd  ...         6       1    2.000000    1.333333   \n7   1.0  Manchester City  ...         5       0    1.666667    1.666667   \n9   1.0   Leicester City  ...         6       0    1.000000    1.666667   \n11  0.0   Manchester Utd  ...         6       1    0.666667    1.000000   \n13  3.0      Aston Villa  ...         6       0    0.333333    0.666667   \n..  ...              ...  ...       ...     ...         ...         ...   \n32  0.0          Everton  ...         6       1    1.333333    1.000000   \n33  3.0     Leeds United  ...         4       0    1.666667    0.666667   \n34  1.0      Aston Villa  ...         5       1    2.333333    1.000000   \n35  1.0    Newcastle Utd  ...         4       0    1.666667    1.333333   \n36  1.0          Burnley  ...         6       0    1.333333    1.666667   \n\n   sh_rolling sot_rolling dist_rolling fk_rolling  pk_rolling  pkatt_rolling  \n6    7.666667    3.666667    14.733333   0.666667    0.000000       0.000000  \n7    5.333333    3.666667    15.766667   0.000000    0.000000       0.000000  \n9    7.000000    3.666667    16.733333   0.666667    0.000000       0.000000  \n11   9.666667    4.000000    16.033333   1.000000    0.000000       0.000000  \n13   9.666667    2.666667    18.033333   1.000000    0.333333       0.333333  \n..        ...         ...          ...        ...         ...            ...  \n32  12.333333    3.666667    19.300000   0.000000    0.000000       0.000000  \n33  12.333333    4.333333    19.600000   0.000000    0.000000       0.000000  \n34  13.000000    5.333333    19.833333   0.000000    0.000000       0.000000  \n35  13.000000    5.000000    18.533333   0.000000    0.000000       0.000000  \n36  10.000000    4.666667    17.633333   0.000000    0.000000       0.000000  \n\n[1317 rows x 40 columns]",
            "text/html": "<div>\n<style scoped>\n    .dataframe tbody tr th:only-of-type {\n        vertical-align: middle;\n    }\n\n    .dataframe tbody tr th {\n        vertical-align: top;\n    }\n\n    .dataframe thead th {\n        text-align: right;\n    }\n</style>\n<table border=\"1\" class=\"dataframe\">\n  <thead>\n    <tr style=\"text-align: right;\">\n      <th></th>\n      <th>date</th>\n      <th>time</th>\n      <th>comp</th>\n      <th>round</th>\n      <th>day</th>\n      <th>venue</th>\n      <th>result</th>\n      <th>gf</th>\n      <th>ga</th>\n      <th>opponent</th>\n      <th>...</th>\n      <th>day_code</th>\n      <th>target</th>\n      <th>gf_rolling</th>\n      <th>ga_rolling</th>\n      <th>sh_rolling</th>\n      <th>sot_rolling</th>\n      <th>dist_rolling</th>\n      <th>fk_rolling</th>\n      <th>pk_rolling</th>\n      <th>pkatt_rolling</th>\n    </tr>\n  </thead>\n  <tbody>\n    <tr>\n      <th>6</th>\n      <td>2020-10-04</td>\n      <td>14:00</td>\n      <td>Premier League</td>\n      <td>Matchweek 4</td>\n      <td>Sun</td>\n      <td>Home</td>\n      <td>W</td>\n      <td>2.0</td>\n      <td>1.0</td>\n      <td>Sheffield Utd</td>\n      <td>...</td>\n      <td>6</td>\n      <td>1</td>\n      <td>2.000000</td>\n      <td>1.333333</td>\n      <td>7.666667</td>\n      <td>3.666667</td>\n      <td>14.733333</td>\n      <td>0.666667</td>\n      <td>0.000000</td>\n      <td>0.000000</td>\n    </tr>\n    <tr>\n      <th>7</th>\n      <td>2020-10-17</td>\n      <td>17:30</td>\n      <td>Premier League</td>\n      <td>Matchweek 5</td>\n      <td>Sat</td>\n      <td>Away</td>\n      <td>L</td>\n      <td>0.0</td>\n      <td>1.0</td>\n      <td>Manchester City</td>\n      <td>...</td>\n      <td>5</td>\n      <td>0</td>\n      <td>1.666667</td>\n      <td>1.666667</td>\n      <td>5.333333</td>\n      <td>3.666667</td>\n      <td>15.766667</td>\n      <td>0.000000</td>\n      <td>0.000000</td>\n      <td>0.000000</td>\n    </tr>\n    <tr>\n      <th>9</th>\n      <td>2020-10-25</td>\n      <td>19:15</td>\n      <td>Premier League</td>\n      <td>Matchweek 6</td>\n      <td>Sun</td>\n      <td>Home</td>\n      <td>L</td>\n      <td>0.0</td>\n      <td>1.0</td>\n      <td>Leicester City</td>\n      <td>...</td>\n      <td>6</td>\n      <td>0</td>\n      <td>1.000000</td>\n      <td>1.666667</td>\n      <td>7.000000</td>\n      <td>3.666667</td>\n      <td>16.733333</td>\n      <td>0.666667</td>\n      <td>0.000000</td>\n      <td>0.000000</td>\n    </tr>\n    <tr>\n      <th>11</th>\n      <td>2020-11-01</td>\n      <td>16:30</td>\n      <td>Premier League</td>\n      <td>Matchweek 7</td>\n      <td>Sun</td>\n      <td>Away</td>\n      <td>W</td>\n      <td>1.0</td>\n      <td>0.0</td>\n      <td>Manchester Utd</td>\n      <td>...</td>\n      <td>6</td>\n      <td>1</td>\n      <td>0.666667</td>\n      <td>1.000000</td>\n      <td>9.666667</td>\n      <td>4.000000</td>\n      <td>16.033333</td>\n      <td>1.000000</td>\n      <td>0.000000</td>\n      <td>0.000000</td>\n    </tr>\n    <tr>\n      <th>13</th>\n      <td>2020-11-08</td>\n      <td>19:15</td>\n      <td>Premier League</td>\n      <td>Matchweek 8</td>\n      <td>Sun</td>\n      <td>Home</td>\n      <td>L</td>\n      <td>0.0</td>\n      <td>3.0</td>\n      <td>Aston Villa</td>\n      <td>...</td>\n      <td>6</td>\n      <td>0</td>\n      <td>0.333333</td>\n      <td>0.666667</td>\n      <td>9.666667</td>\n      <td>2.666667</td>\n      <td>18.033333</td>\n      <td>1.000000</td>\n      <td>0.333333</td>\n      <td>0.333333</td>\n    </tr>\n    <tr>\n      <th>...</th>\n      <td>...</td>\n      <td>...</td>\n      <td>...</td>\n      <td>...</td>\n      <td>...</td>\n      <td>...</td>\n      <td>...</td>\n      <td>...</td>\n      <td>...</td>\n      <td>...</td>\n      <td>...</td>\n      <td>...</td>\n      <td>...</td>\n      <td>...</td>\n      <td>...</td>\n      <td>...</td>\n      <td>...</td>\n      <td>...</td>\n      <td>...</td>\n      <td>...</td>\n      <td>...</td>\n    </tr>\n    <tr>\n      <th>32</th>\n      <td>2022-03-13</td>\n      <td>14:00</td>\n      <td>Premier League</td>\n      <td>Matchweek 29</td>\n      <td>Sun</td>\n      <td>Away</td>\n      <td>W</td>\n      <td>1.0</td>\n      <td>0.0</td>\n      <td>Everton</td>\n      <td>...</td>\n      <td>6</td>\n      <td>1</td>\n      <td>1.333333</td>\n      <td>1.000000</td>\n      <td>12.333333</td>\n      <td>3.666667</td>\n      <td>19.300000</td>\n      <td>0.000000</td>\n      <td>0.000000</td>\n      <td>0.000000</td>\n    </tr>\n    <tr>\n      <th>33</th>\n      <td>2022-03-18</td>\n      <td>20:00</td>\n      <td>Premier League</td>\n      <td>Matchweek 30</td>\n      <td>Fri</td>\n      <td>Home</td>\n      <td>L</td>\n      <td>2.0</td>\n      <td>3.0</td>\n      <td>Leeds United</td>\n      <td>...</td>\n      <td>4</td>\n      <td>0</td>\n      <td>1.666667</td>\n      <td>0.666667</td>\n      <td>12.333333</td>\n      <td>4.333333</td>\n      <td>19.600000</td>\n      <td>0.000000</td>\n      <td>0.000000</td>\n      <td>0.000000</td>\n    </tr>\n    <tr>\n      <th>34</th>\n      <td>2022-04-02</td>\n      <td>15:00</td>\n      <td>Premier League</td>\n      <td>Matchweek 31</td>\n      <td>Sat</td>\n      <td>Home</td>\n      <td>W</td>\n      <td>2.0</td>\n      <td>1.0</td>\n      <td>Aston Villa</td>\n      <td>...</td>\n      <td>5</td>\n      <td>1</td>\n      <td>2.333333</td>\n      <td>1.000000</td>\n      <td>13.000000</td>\n      <td>5.333333</td>\n      <td>19.833333</td>\n      <td>0.000000</td>\n      <td>0.000000</td>\n      <td>0.000000</td>\n    </tr>\n    <tr>\n      <th>35</th>\n      <td>2022-04-08</td>\n      <td>20:00</td>\n      <td>Premier League</td>\n      <td>Matchweek 32</td>\n      <td>Fri</td>\n      <td>Away</td>\n      <td>L</td>\n      <td>0.0</td>\n      <td>1.0</td>\n      <td>Newcastle Utd</td>\n      <td>...</td>\n      <td>4</td>\n      <td>0</td>\n      <td>1.666667</td>\n      <td>1.333333</td>\n      <td>13.000000</td>\n      <td>5.000000</td>\n      <td>18.533333</td>\n      <td>0.000000</td>\n      <td>0.000000</td>\n      <td>0.000000</td>\n    </tr>\n    <tr>\n      <th>36</th>\n      <td>2022-04-24</td>\n      <td>14:00</td>\n      <td>Premier League</td>\n      <td>Matchweek 34</td>\n      <td>Sun</td>\n      <td>Away</td>\n      <td>L</td>\n      <td>0.0</td>\n      <td>1.0</td>\n      <td>Burnley</td>\n      <td>...</td>\n      <td>6</td>\n      <td>0</td>\n      <td>1.333333</td>\n      <td>1.666667</td>\n      <td>10.000000</td>\n      <td>4.666667</td>\n      <td>17.633333</td>\n      <td>0.000000</td>\n      <td>0.000000</td>\n      <td>0.000000</td>\n    </tr>\n  </tbody>\n</table>\n<p>1317 rows × 40 columns</p>\n</div>"
          },
          "metadata": {}
        }
      ],
      "execution_count": 43
    },
    {
      "cell_type": "code",
      "source": "matches_rolling.index = range(matches_rolling.shape[0])",
      "metadata": {
        "trusted": true
      },
      "outputs": [],
      "execution_count": 44
    },
    {
      "cell_type": "code",
      "source": "def make_predictions(data, predictors):\n    train = data[data[\"date\"] < '2022-01-01']\n    test = data[data[\"date\"] > '2022-01-01']\n    rf.fit(train[predictors], train[\"target\"])\n    preds = rf.predict(test[predictors])\n    combined = pd.DataFrame(dict(actual=test[\"target\"], predicted=preds), index=test.index)\n    precision = precision_score(test[\"target\"], preds)\n    return combined, error",
      "metadata": {
        "trusted": true
      },
      "outputs": [],
      "execution_count": 54
    },
    {
      "cell_type": "code",
      "source": "combined, precision = make_predictions(matches_rolling, predictors + new_cols)",
      "metadata": {
        "trusted": true
      },
      "outputs": [],
      "execution_count": 55
    },
    {
      "cell_type": "code",
      "source": "precision",
      "metadata": {
        "trusted": true
      },
      "outputs": [
        {
          "execution_count": 56,
          "output_type": "execute_result",
          "data": {
            "text/plain": "0.625"
          },
          "metadata": {}
        }
      ],
      "execution_count": 56
    },
    {
      "cell_type": "code",
      "source": "combined",
      "metadata": {
        "trusted": true
      },
      "outputs": [
        {
          "execution_count": 57,
          "output_type": "execute_result",
          "data": {
            "text/plain": "                            actual  predicted\nteam                                         \nArsenal                 27       0          0\n                        28       1          0\n                        29       1          0\n                        30       1          1\n                        31       1          1\n...                            ...        ...\nWolverhampton Wanderers 32       1          0\n                        33       0          0\n                        34       1          0\n                        35       0          0\n                        36       0          0\n\n[276 rows x 2 columns]",
            "text/html": "<div>\n<style scoped>\n    .dataframe tbody tr th:only-of-type {\n        vertical-align: middle;\n    }\n\n    .dataframe tbody tr th {\n        vertical-align: top;\n    }\n\n    .dataframe thead th {\n        text-align: right;\n    }\n</style>\n<table border=\"1\" class=\"dataframe\">\n  <thead>\n    <tr style=\"text-align: right;\">\n      <th></th>\n      <th></th>\n      <th>actual</th>\n      <th>predicted</th>\n    </tr>\n    <tr>\n      <th>team</th>\n      <th></th>\n      <th></th>\n      <th></th>\n    </tr>\n  </thead>\n  <tbody>\n    <tr>\n      <th rowspan=\"5\" valign=\"top\">Arsenal</th>\n      <th>27</th>\n      <td>0</td>\n      <td>0</td>\n    </tr>\n    <tr>\n      <th>28</th>\n      <td>1</td>\n      <td>0</td>\n    </tr>\n    <tr>\n      <th>29</th>\n      <td>1</td>\n      <td>0</td>\n    </tr>\n    <tr>\n      <th>30</th>\n      <td>1</td>\n      <td>1</td>\n    </tr>\n    <tr>\n      <th>31</th>\n      <td>1</td>\n      <td>1</td>\n    </tr>\n    <tr>\n      <th>...</th>\n      <th>...</th>\n      <td>...</td>\n      <td>...</td>\n    </tr>\n    <tr>\n      <th rowspan=\"5\" valign=\"top\">Wolverhampton Wanderers</th>\n      <th>32</th>\n      <td>1</td>\n      <td>0</td>\n    </tr>\n    <tr>\n      <th>33</th>\n      <td>0</td>\n      <td>0</td>\n    </tr>\n    <tr>\n      <th>34</th>\n      <td>1</td>\n      <td>0</td>\n    </tr>\n    <tr>\n      <th>35</th>\n      <td>0</td>\n      <td>0</td>\n    </tr>\n    <tr>\n      <th>36</th>\n      <td>0</td>\n      <td>0</td>\n    </tr>\n  </tbody>\n</table>\n<p>276 rows × 2 columns</p>\n</div>"
          },
          "metadata": {}
        }
      ],
      "execution_count": 57
    },
    {
      "cell_type": "code",
      "source": "combined = combined.merge(matches_rolling[[\"date\", \"team\", \"opponent\", \"result\"]], left_index=True, right_index=True)",
      "metadata": {
        "trusted": true
      },
      "outputs": [],
      "execution_count": 58
    },
    {
      "cell_type": "code",
      "source": "combined",
      "metadata": {
        "trusted": true
      },
      "outputs": [
        {
          "execution_count": 70,
          "output_type": "execute_result",
          "data": {
            "text/plain": "                            actual  predicted       date  \\\nteam                                                       \nArsenal                 27       0          0 2022-01-23   \n                        28       1          0 2021-01-14   \n                        28       1          0 2022-02-10   \n                        29       1          0 2021-01-18   \n                        29       1          0 2022-02-19   \n...                            ...        ...        ...   \nWolverhampton Wanderers 34       1          0 2022-04-02   \n                        35       0          0 2021-04-17   \n                        35       0          0 2022-04-08   \n                        36       0          0 2021-04-25   \n                        36       0          0 2022-04-24   \n\n                                               team        opponent result  \\\nteam                                                                         \nArsenal                 27                  Arsenal         Burnley      D   \n                        28                  Arsenal  Crystal Palace      D   \n                        28                  Arsenal          Wolves      W   \n                        29                  Arsenal   Newcastle Utd      W   \n                        29                  Arsenal       Brentford      W   \n...                                             ...             ...    ...   \nWolverhampton Wanderers 34  Wolverhampton Wanderers     Aston Villa      W   \n                        35  Wolverhampton Wanderers   Sheffield Utd      W   \n                        35  Wolverhampton Wanderers   Newcastle Utd      L   \n                        36  Wolverhampton Wanderers         Burnley      L   \n                        36  Wolverhampton Wanderers         Burnley      L   \n\n                           new_team  \nteam                                 \nArsenal                 27  Arsenal  \n                        28  Arsenal  \n                        28  Arsenal  \n                        29  Arsenal  \n                        29  Arsenal  \n...                             ...  \nWolverhampton Wanderers 34   Wolves  \n                        35   Wolves  \n                        35   Wolves  \n                        36   Wolves  \n                        36   Wolves  \n\n[468 rows x 7 columns]",
            "text/html": "<div>\n<style scoped>\n    .dataframe tbody tr th:only-of-type {\n        vertical-align: middle;\n    }\n\n    .dataframe tbody tr th {\n        vertical-align: top;\n    }\n\n    .dataframe thead th {\n        text-align: right;\n    }\n</style>\n<table border=\"1\" class=\"dataframe\">\n  <thead>\n    <tr style=\"text-align: right;\">\n      <th></th>\n      <th></th>\n      <th>actual</th>\n      <th>predicted</th>\n      <th>date</th>\n      <th>team</th>\n      <th>opponent</th>\n      <th>result</th>\n      <th>new_team</th>\n    </tr>\n    <tr>\n      <th>team</th>\n      <th></th>\n      <th></th>\n      <th></th>\n      <th></th>\n      <th></th>\n      <th></th>\n      <th></th>\n      <th></th>\n    </tr>\n  </thead>\n  <tbody>\n    <tr>\n      <th rowspan=\"5\" valign=\"top\">Arsenal</th>\n      <th>27</th>\n      <td>0</td>\n      <td>0</td>\n      <td>2022-01-23</td>\n      <td>Arsenal</td>\n      <td>Burnley</td>\n      <td>D</td>\n      <td>Arsenal</td>\n    </tr>\n    <tr>\n      <th>28</th>\n      <td>1</td>\n      <td>0</td>\n      <td>2021-01-14</td>\n      <td>Arsenal</td>\n      <td>Crystal Palace</td>\n      <td>D</td>\n      <td>Arsenal</td>\n    </tr>\n    <tr>\n      <th>28</th>\n      <td>1</td>\n      <td>0</td>\n      <td>2022-02-10</td>\n      <td>Arsenal</td>\n      <td>Wolves</td>\n      <td>W</td>\n      <td>Arsenal</td>\n    </tr>\n    <tr>\n      <th>29</th>\n      <td>1</td>\n      <td>0</td>\n      <td>2021-01-18</td>\n      <td>Arsenal</td>\n      <td>Newcastle Utd</td>\n      <td>W</td>\n      <td>Arsenal</td>\n    </tr>\n    <tr>\n      <th>29</th>\n      <td>1</td>\n      <td>0</td>\n      <td>2022-02-19</td>\n      <td>Arsenal</td>\n      <td>Brentford</td>\n      <td>W</td>\n      <td>Arsenal</td>\n    </tr>\n    <tr>\n      <th>...</th>\n      <th>...</th>\n      <td>...</td>\n      <td>...</td>\n      <td>...</td>\n      <td>...</td>\n      <td>...</td>\n      <td>...</td>\n      <td>...</td>\n    </tr>\n    <tr>\n      <th rowspan=\"5\" valign=\"top\">Wolverhampton Wanderers</th>\n      <th>34</th>\n      <td>1</td>\n      <td>0</td>\n      <td>2022-04-02</td>\n      <td>Wolverhampton Wanderers</td>\n      <td>Aston Villa</td>\n      <td>W</td>\n      <td>Wolves</td>\n    </tr>\n    <tr>\n      <th>35</th>\n      <td>0</td>\n      <td>0</td>\n      <td>2021-04-17</td>\n      <td>Wolverhampton Wanderers</td>\n      <td>Sheffield Utd</td>\n      <td>W</td>\n      <td>Wolves</td>\n    </tr>\n    <tr>\n      <th>35</th>\n      <td>0</td>\n      <td>0</td>\n      <td>2022-04-08</td>\n      <td>Wolverhampton Wanderers</td>\n      <td>Newcastle Utd</td>\n      <td>L</td>\n      <td>Wolves</td>\n    </tr>\n    <tr>\n      <th>36</th>\n      <td>0</td>\n      <td>0</td>\n      <td>2021-04-25</td>\n      <td>Wolverhampton Wanderers</td>\n      <td>Burnley</td>\n      <td>L</td>\n      <td>Wolves</td>\n    </tr>\n    <tr>\n      <th>36</th>\n      <td>0</td>\n      <td>0</td>\n      <td>2022-04-24</td>\n      <td>Wolverhampton Wanderers</td>\n      <td>Burnley</td>\n      <td>L</td>\n      <td>Wolves</td>\n    </tr>\n  </tbody>\n</table>\n<p>468 rows × 7 columns</p>\n</div>"
          },
          "metadata": {}
        }
      ],
      "execution_count": 70
    },
    {
      "cell_type": "code",
      "source": "combined.head(10)",
      "metadata": {
        "trusted": true
      },
      "outputs": [
        {
          "execution_count": 69,
          "output_type": "execute_result",
          "data": {
            "text/plain": "            actual  predicted       date     team        opponent result  \\\nteam                                                                       \nArsenal 27       0          0 2022-01-23  Arsenal         Burnley      D   \n        28       1          0 2021-01-14  Arsenal  Crystal Palace      D   \n        28       1          0 2022-02-10  Arsenal          Wolves      W   \n        29       1          0 2021-01-18  Arsenal   Newcastle Utd      W   \n        29       1          0 2022-02-19  Arsenal       Brentford      W   \n        30       1          1 2022-02-24  Arsenal          Wolves      W   \n        31       1          1 2021-01-26  Arsenal     Southampton      W   \n        31       1          1 2022-03-06  Arsenal         Watford      W   \n        32       1          1 2021-01-30  Arsenal  Manchester Utd      D   \n        32       1          1 2022-03-13  Arsenal  Leicester City      W   \n\n           new_team  \nteam                 \nArsenal 27  Arsenal  \n        28  Arsenal  \n        28  Arsenal  \n        29  Arsenal  \n        29  Arsenal  \n        30  Arsenal  \n        31  Arsenal  \n        31  Arsenal  \n        32  Arsenal  \n        32  Arsenal  ",
            "text/html": "<div>\n<style scoped>\n    .dataframe tbody tr th:only-of-type {\n        vertical-align: middle;\n    }\n\n    .dataframe tbody tr th {\n        vertical-align: top;\n    }\n\n    .dataframe thead th {\n        text-align: right;\n    }\n</style>\n<table border=\"1\" class=\"dataframe\">\n  <thead>\n    <tr style=\"text-align: right;\">\n      <th></th>\n      <th></th>\n      <th>actual</th>\n      <th>predicted</th>\n      <th>date</th>\n      <th>team</th>\n      <th>opponent</th>\n      <th>result</th>\n      <th>new_team</th>\n    </tr>\n    <tr>\n      <th>team</th>\n      <th></th>\n      <th></th>\n      <th></th>\n      <th></th>\n      <th></th>\n      <th></th>\n      <th></th>\n      <th></th>\n    </tr>\n  </thead>\n  <tbody>\n    <tr>\n      <th rowspan=\"10\" valign=\"top\">Arsenal</th>\n      <th>27</th>\n      <td>0</td>\n      <td>0</td>\n      <td>2022-01-23</td>\n      <td>Arsenal</td>\n      <td>Burnley</td>\n      <td>D</td>\n      <td>Arsenal</td>\n    </tr>\n    <tr>\n      <th>28</th>\n      <td>1</td>\n      <td>0</td>\n      <td>2021-01-14</td>\n      <td>Arsenal</td>\n      <td>Crystal Palace</td>\n      <td>D</td>\n      <td>Arsenal</td>\n    </tr>\n    <tr>\n      <th>28</th>\n      <td>1</td>\n      <td>0</td>\n      <td>2022-02-10</td>\n      <td>Arsenal</td>\n      <td>Wolves</td>\n      <td>W</td>\n      <td>Arsenal</td>\n    </tr>\n    <tr>\n      <th>29</th>\n      <td>1</td>\n      <td>0</td>\n      <td>2021-01-18</td>\n      <td>Arsenal</td>\n      <td>Newcastle Utd</td>\n      <td>W</td>\n      <td>Arsenal</td>\n    </tr>\n    <tr>\n      <th>29</th>\n      <td>1</td>\n      <td>0</td>\n      <td>2022-02-19</td>\n      <td>Arsenal</td>\n      <td>Brentford</td>\n      <td>W</td>\n      <td>Arsenal</td>\n    </tr>\n    <tr>\n      <th>30</th>\n      <td>1</td>\n      <td>1</td>\n      <td>2022-02-24</td>\n      <td>Arsenal</td>\n      <td>Wolves</td>\n      <td>W</td>\n      <td>Arsenal</td>\n    </tr>\n    <tr>\n      <th>31</th>\n      <td>1</td>\n      <td>1</td>\n      <td>2021-01-26</td>\n      <td>Arsenal</td>\n      <td>Southampton</td>\n      <td>W</td>\n      <td>Arsenal</td>\n    </tr>\n    <tr>\n      <th>31</th>\n      <td>1</td>\n      <td>1</td>\n      <td>2022-03-06</td>\n      <td>Arsenal</td>\n      <td>Watford</td>\n      <td>W</td>\n      <td>Arsenal</td>\n    </tr>\n    <tr>\n      <th>32</th>\n      <td>1</td>\n      <td>1</td>\n      <td>2021-01-30</td>\n      <td>Arsenal</td>\n      <td>Manchester Utd</td>\n      <td>D</td>\n      <td>Arsenal</td>\n    </tr>\n    <tr>\n      <th>32</th>\n      <td>1</td>\n      <td>1</td>\n      <td>2022-03-13</td>\n      <td>Arsenal</td>\n      <td>Leicester City</td>\n      <td>W</td>\n      <td>Arsenal</td>\n    </tr>\n  </tbody>\n</table>\n</div>"
          },
          "metadata": {}
        }
      ],
      "execution_count": 69
    },
    {
      "cell_type": "code",
      "source": "class MissingDict(dict):\n    __missing__ = lambda self, key: key\n\nmap_values = {\"Brighton and Hove Albion\": \"Brighton\", \"Manchester United\": \"Manchester Utd\", \"Newcastle United\": \"Newcastle Utd\", \"Tottenham Hotspur\": \"Tottenham\", \"West Ham United\": \"West Ham\", \"Wolverhampton Wanderers\": \"Wolves\"} \nmapping = MissingDict(**map_values)",
      "metadata": {
        "trusted": true
      },
      "outputs": [],
      "execution_count": 63
    },
    {
      "cell_type": "code",
      "source": "combined[\"new_team\"] = combined[\"team\"].map(mapping)",
      "metadata": {
        "trusted": true
      },
      "outputs": [],
      "execution_count": 64
    },
    {
      "cell_type": "code",
      "source": "combined",
      "metadata": {
        "trusted": true
      },
      "outputs": [
        {
          "execution_count": 71,
          "output_type": "execute_result",
          "data": {
            "text/plain": "                            actual  predicted       date  \\\nteam                                                       \nArsenal                 27       0          0 2022-01-23   \n                        28       1          0 2021-01-14   \n                        28       1          0 2022-02-10   \n                        29       1          0 2021-01-18   \n                        29       1          0 2022-02-19   \n...                            ...        ...        ...   \nWolverhampton Wanderers 34       1          0 2022-04-02   \n                        35       0          0 2021-04-17   \n                        35       0          0 2022-04-08   \n                        36       0          0 2021-04-25   \n                        36       0          0 2022-04-24   \n\n                                               team        opponent result  \\\nteam                                                                         \nArsenal                 27                  Arsenal         Burnley      D   \n                        28                  Arsenal  Crystal Palace      D   \n                        28                  Arsenal          Wolves      W   \n                        29                  Arsenal   Newcastle Utd      W   \n                        29                  Arsenal       Brentford      W   \n...                                             ...             ...    ...   \nWolverhampton Wanderers 34  Wolverhampton Wanderers     Aston Villa      W   \n                        35  Wolverhampton Wanderers   Sheffield Utd      W   \n                        35  Wolverhampton Wanderers   Newcastle Utd      L   \n                        36  Wolverhampton Wanderers         Burnley      L   \n                        36  Wolverhampton Wanderers         Burnley      L   \n\n                           new_team  \nteam                                 \nArsenal                 27  Arsenal  \n                        28  Arsenal  \n                        28  Arsenal  \n                        29  Arsenal  \n                        29  Arsenal  \n...                             ...  \nWolverhampton Wanderers 34   Wolves  \n                        35   Wolves  \n                        35   Wolves  \n                        36   Wolves  \n                        36   Wolves  \n\n[468 rows x 7 columns]",
            "text/html": "<div>\n<style scoped>\n    .dataframe tbody tr th:only-of-type {\n        vertical-align: middle;\n    }\n\n    .dataframe tbody tr th {\n        vertical-align: top;\n    }\n\n    .dataframe thead th {\n        text-align: right;\n    }\n</style>\n<table border=\"1\" class=\"dataframe\">\n  <thead>\n    <tr style=\"text-align: right;\">\n      <th></th>\n      <th></th>\n      <th>actual</th>\n      <th>predicted</th>\n      <th>date</th>\n      <th>team</th>\n      <th>opponent</th>\n      <th>result</th>\n      <th>new_team</th>\n    </tr>\n    <tr>\n      <th>team</th>\n      <th></th>\n      <th></th>\n      <th></th>\n      <th></th>\n      <th></th>\n      <th></th>\n      <th></th>\n      <th></th>\n    </tr>\n  </thead>\n  <tbody>\n    <tr>\n      <th rowspan=\"5\" valign=\"top\">Arsenal</th>\n      <th>27</th>\n      <td>0</td>\n      <td>0</td>\n      <td>2022-01-23</td>\n      <td>Arsenal</td>\n      <td>Burnley</td>\n      <td>D</td>\n      <td>Arsenal</td>\n    </tr>\n    <tr>\n      <th>28</th>\n      <td>1</td>\n      <td>0</td>\n      <td>2021-01-14</td>\n      <td>Arsenal</td>\n      <td>Crystal Palace</td>\n      <td>D</td>\n      <td>Arsenal</td>\n    </tr>\n    <tr>\n      <th>28</th>\n      <td>1</td>\n      <td>0</td>\n      <td>2022-02-10</td>\n      <td>Arsenal</td>\n      <td>Wolves</td>\n      <td>W</td>\n      <td>Arsenal</td>\n    </tr>\n    <tr>\n      <th>29</th>\n      <td>1</td>\n      <td>0</td>\n      <td>2021-01-18</td>\n      <td>Arsenal</td>\n      <td>Newcastle Utd</td>\n      <td>W</td>\n      <td>Arsenal</td>\n    </tr>\n    <tr>\n      <th>29</th>\n      <td>1</td>\n      <td>0</td>\n      <td>2022-02-19</td>\n      <td>Arsenal</td>\n      <td>Brentford</td>\n      <td>W</td>\n      <td>Arsenal</td>\n    </tr>\n    <tr>\n      <th>...</th>\n      <th>...</th>\n      <td>...</td>\n      <td>...</td>\n      <td>...</td>\n      <td>...</td>\n      <td>...</td>\n      <td>...</td>\n      <td>...</td>\n    </tr>\n    <tr>\n      <th rowspan=\"5\" valign=\"top\">Wolverhampton Wanderers</th>\n      <th>34</th>\n      <td>1</td>\n      <td>0</td>\n      <td>2022-04-02</td>\n      <td>Wolverhampton Wanderers</td>\n      <td>Aston Villa</td>\n      <td>W</td>\n      <td>Wolves</td>\n    </tr>\n    <tr>\n      <th>35</th>\n      <td>0</td>\n      <td>0</td>\n      <td>2021-04-17</td>\n      <td>Wolverhampton Wanderers</td>\n      <td>Sheffield Utd</td>\n      <td>W</td>\n      <td>Wolves</td>\n    </tr>\n    <tr>\n      <th>35</th>\n      <td>0</td>\n      <td>0</td>\n      <td>2022-04-08</td>\n      <td>Wolverhampton Wanderers</td>\n      <td>Newcastle Utd</td>\n      <td>L</td>\n      <td>Wolves</td>\n    </tr>\n    <tr>\n      <th>36</th>\n      <td>0</td>\n      <td>0</td>\n      <td>2021-04-25</td>\n      <td>Wolverhampton Wanderers</td>\n      <td>Burnley</td>\n      <td>L</td>\n      <td>Wolves</td>\n    </tr>\n    <tr>\n      <th>36</th>\n      <td>0</td>\n      <td>0</td>\n      <td>2022-04-24</td>\n      <td>Wolverhampton Wanderers</td>\n      <td>Burnley</td>\n      <td>L</td>\n      <td>Wolves</td>\n    </tr>\n  </tbody>\n</table>\n<p>468 rows × 7 columns</p>\n</div>"
          },
          "metadata": {}
        }
      ],
      "execution_count": 71
    },
    {
      "cell_type": "code",
      "source": "merged = combined.merge(combined, left_on=[\"date\", \"new_team\"], right_on=[\"date\", \"opponent\"])",
      "metadata": {
        "trusted": true
      },
      "outputs": [],
      "execution_count": 65
    },
    {
      "cell_type": "code",
      "source": "merged",
      "metadata": {
        "trusted": true
      },
      "outputs": [
        {
          "execution_count": 66,
          "output_type": "execute_result",
          "data": {
            "text/plain": "     actual_x  predicted_x       date                   team_x     opponent_x  \\\n0           0            0 2022-01-23                  Arsenal        Burnley   \n1           1            0 2022-02-10                  Arsenal         Wolves   \n2           1            0 2021-01-18                  Arsenal  Newcastle Utd   \n3           1            0 2022-02-19                  Arsenal      Brentford   \n4           1            1 2022-02-24                  Arsenal         Wolves   \n..        ...          ...        ...                      ...            ...   \n359         0            0 2021-04-05  Wolverhampton Wanderers       West Ham   \n360         0            0 2022-03-18  Wolverhampton Wanderers   Leeds United   \n361         1            0 2022-04-02  Wolverhampton Wanderers    Aston Villa   \n362         0            0 2022-04-08  Wolverhampton Wanderers  Newcastle Utd   \n363         0            0 2022-04-24  Wolverhampton Wanderers        Burnley   \n\n    result_x new_team_x  actual_y  predicted_y                   team_y  \\\n0          D    Arsenal         0            0                  Burnley   \n1          W    Arsenal         0            0  Wolverhampton Wanderers   \n2          W    Arsenal         1            0         Newcastle United   \n3          W    Arsenal         0            0                Brentford   \n4          W    Arsenal         0            0  Wolverhampton Wanderers   \n..       ...        ...       ...          ...                      ...   \n359        L     Wolves         0            0          West Ham United   \n360        L     Wolves         1            0             Leeds United   \n361        W     Wolves         0            0              Aston Villa   \n362        L     Wolves         1            0         Newcastle United   \n363        L     Wolves         1            0                  Burnley   \n\n    opponent_y result_y     new_team_y  \n0      Arsenal        D        Burnley  \n1      Arsenal        L         Wolves  \n2      Arsenal        L  Newcastle Utd  \n3      Arsenal        L      Brentford  \n4      Arsenal        L         Wolves  \n..         ...      ...            ...  \n359     Wolves        W       West Ham  \n360     Wolves        W   Leeds United  \n361     Wolves        L    Aston Villa  \n362     Wolves        W  Newcastle Utd  \n363     Wolves        W        Burnley  \n\n[364 rows x 13 columns]",
            "text/html": "<div>\n<style scoped>\n    .dataframe tbody tr th:only-of-type {\n        vertical-align: middle;\n    }\n\n    .dataframe tbody tr th {\n        vertical-align: top;\n    }\n\n    .dataframe thead th {\n        text-align: right;\n    }\n</style>\n<table border=\"1\" class=\"dataframe\">\n  <thead>\n    <tr style=\"text-align: right;\">\n      <th></th>\n      <th>actual_x</th>\n      <th>predicted_x</th>\n      <th>date</th>\n      <th>team_x</th>\n      <th>opponent_x</th>\n      <th>result_x</th>\n      <th>new_team_x</th>\n      <th>actual_y</th>\n      <th>predicted_y</th>\n      <th>team_y</th>\n      <th>opponent_y</th>\n      <th>result_y</th>\n      <th>new_team_y</th>\n    </tr>\n  </thead>\n  <tbody>\n    <tr>\n      <th>0</th>\n      <td>0</td>\n      <td>0</td>\n      <td>2022-01-23</td>\n      <td>Arsenal</td>\n      <td>Burnley</td>\n      <td>D</td>\n      <td>Arsenal</td>\n      <td>0</td>\n      <td>0</td>\n      <td>Burnley</td>\n      <td>Arsenal</td>\n      <td>D</td>\n      <td>Burnley</td>\n    </tr>\n    <tr>\n      <th>1</th>\n      <td>1</td>\n      <td>0</td>\n      <td>2022-02-10</td>\n      <td>Arsenal</td>\n      <td>Wolves</td>\n      <td>W</td>\n      <td>Arsenal</td>\n      <td>0</td>\n      <td>0</td>\n      <td>Wolverhampton Wanderers</td>\n      <td>Arsenal</td>\n      <td>L</td>\n      <td>Wolves</td>\n    </tr>\n    <tr>\n      <th>2</th>\n      <td>1</td>\n      <td>0</td>\n      <td>2021-01-18</td>\n      <td>Arsenal</td>\n      <td>Newcastle Utd</td>\n      <td>W</td>\n      <td>Arsenal</td>\n      <td>1</td>\n      <td>0</td>\n      <td>Newcastle United</td>\n      <td>Arsenal</td>\n      <td>L</td>\n      <td>Newcastle Utd</td>\n    </tr>\n    <tr>\n      <th>3</th>\n      <td>1</td>\n      <td>0</td>\n      <td>2022-02-19</td>\n      <td>Arsenal</td>\n      <td>Brentford</td>\n      <td>W</td>\n      <td>Arsenal</td>\n      <td>0</td>\n      <td>0</td>\n      <td>Brentford</td>\n      <td>Arsenal</td>\n      <td>L</td>\n      <td>Brentford</td>\n    </tr>\n    <tr>\n      <th>4</th>\n      <td>1</td>\n      <td>1</td>\n      <td>2022-02-24</td>\n      <td>Arsenal</td>\n      <td>Wolves</td>\n      <td>W</td>\n      <td>Arsenal</td>\n      <td>0</td>\n      <td>0</td>\n      <td>Wolverhampton Wanderers</td>\n      <td>Arsenal</td>\n      <td>L</td>\n      <td>Wolves</td>\n    </tr>\n    <tr>\n      <th>...</th>\n      <td>...</td>\n      <td>...</td>\n      <td>...</td>\n      <td>...</td>\n      <td>...</td>\n      <td>...</td>\n      <td>...</td>\n      <td>...</td>\n      <td>...</td>\n      <td>...</td>\n      <td>...</td>\n      <td>...</td>\n      <td>...</td>\n    </tr>\n    <tr>\n      <th>359</th>\n      <td>0</td>\n      <td>0</td>\n      <td>2021-04-05</td>\n      <td>Wolverhampton Wanderers</td>\n      <td>West Ham</td>\n      <td>L</td>\n      <td>Wolves</td>\n      <td>0</td>\n      <td>0</td>\n      <td>West Ham United</td>\n      <td>Wolves</td>\n      <td>W</td>\n      <td>West Ham</td>\n    </tr>\n    <tr>\n      <th>360</th>\n      <td>0</td>\n      <td>0</td>\n      <td>2022-03-18</td>\n      <td>Wolverhampton Wanderers</td>\n      <td>Leeds United</td>\n      <td>L</td>\n      <td>Wolves</td>\n      <td>1</td>\n      <td>0</td>\n      <td>Leeds United</td>\n      <td>Wolves</td>\n      <td>W</td>\n      <td>Leeds United</td>\n    </tr>\n    <tr>\n      <th>361</th>\n      <td>1</td>\n      <td>0</td>\n      <td>2022-04-02</td>\n      <td>Wolverhampton Wanderers</td>\n      <td>Aston Villa</td>\n      <td>W</td>\n      <td>Wolves</td>\n      <td>0</td>\n      <td>0</td>\n      <td>Aston Villa</td>\n      <td>Wolves</td>\n      <td>L</td>\n      <td>Aston Villa</td>\n    </tr>\n    <tr>\n      <th>362</th>\n      <td>0</td>\n      <td>0</td>\n      <td>2022-04-08</td>\n      <td>Wolverhampton Wanderers</td>\n      <td>Newcastle Utd</td>\n      <td>L</td>\n      <td>Wolves</td>\n      <td>1</td>\n      <td>0</td>\n      <td>Newcastle United</td>\n      <td>Wolves</td>\n      <td>W</td>\n      <td>Newcastle Utd</td>\n    </tr>\n    <tr>\n      <th>363</th>\n      <td>0</td>\n      <td>0</td>\n      <td>2022-04-24</td>\n      <td>Wolverhampton Wanderers</td>\n      <td>Burnley</td>\n      <td>L</td>\n      <td>Wolves</td>\n      <td>1</td>\n      <td>0</td>\n      <td>Burnley</td>\n      <td>Wolves</td>\n      <td>W</td>\n      <td>Burnley</td>\n    </tr>\n  </tbody>\n</table>\n<p>364 rows × 13 columns</p>\n</div>"
          },
          "metadata": {}
        }
      ],
      "execution_count": 66
    },
    {
      "cell_type": "code",
      "source": "merged[(merged[\"predicted_x\"] == 1) & (merged[\"predicted_y\"] ==0)][\"actual_x\"].value_counts()",
      "metadata": {
        "trusted": true
      },
      "outputs": [
        {
          "execution_count": 72,
          "output_type": "execute_result",
          "data": {
            "text/plain": "1    36\n0    20\nName: actual_x, dtype: int64"
          },
          "metadata": {}
        }
      ],
      "execution_count": 72
    },
    {
      "cell_type": "code",
      "source": "",
      "metadata": {
        "trusted": true
      },
      "outputs": [],
      "execution_count": null
    }
  ]
}